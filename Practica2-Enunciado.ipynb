{
 "cells": [
  {
   "cell_type": "markdown",
   "metadata": {
    "collapsed": true,
    "jupyter": {
     "outputs_hidden": true
    }
   },
   "source": [
    "<img style=\"float:left\" width=\"40%\" src=\"pics/escudo_COLOR_1L_DCHA.png\">\n",
    "<img style=\"float:right\" width=\"12%\" src=\"pics/PythonLogo.svg\">\n",
    "<br style=\"clear:both;\">\n",
    "\n",
    "# Sistemas Inteligentes aplicados en Salud\n",
    "\n",
    "<h2 style=\"display: inline-block; padding: 4mm; padding-left: 2em; background-color: navy; line-height: 1.3em; color: white; border-radius: 10px;\">Práctica 2: Reconocimiento de formas con redes neuronales</h2>\n",
    "<br style=\"clear:both;\">\n",
    "<h2 style=\"display: inline-block; padding: 4mm; padding-left: 2em; background-color: orange; line-height: 1.3em; color: white; border-radius: 10px;\">Enunciado y tareas</h2>\n",
    "\n",
    "### Grado en Ingeniería de la Salud \n",
    "\n",
    "  **Curso 24-25**\n"
   ]
  },
  {
   "cell_type": "markdown",
   "metadata": {},
   "source": [
    "# Reconocimiento de formas\n",
    "\n",
    "En esta práctica se va a trabajar con el *reconocimiento de formas* (*pattern recognition*, en inglés).\n",
    "\n",
    "Las imágenes con las que se va a trabajar pertenecen a la familia de imágenes **MNIST**, cuya versión original se puede obtener en http://yann.lecun.com/exdb/mnist/(URL verificada en octubre del 2024). \n",
    "\n",
    "MNIST significa *Modified NIST*, donde, a su vez, NIST quiere decir *National Institute of Standards and Technology*. La palabra clave es **modified**. MNIST se constituye de una serie de imágenes de dígitos escritos a mano alzada, entre 0 y 9. Cada dígito está representado por una imagen en blanco y negro. \n",
    "\n",
    "<img style=\"float:center\" width=\"60%\" src=\"pics/MNIST_num.png\">\n",
    "\n",
    "El conjunto de datos **EMNIST** es un conjunto de dígitos y caracteres manuscritos derivados de la base de datos **NIST Special Database 19** y convertidos a un formato de imagen de 28x28 píxeles y a una estructura de conjunto de datos que coincide directamente con el conjunto de datos MNIST.\n",
    "\n",
    "<img style=\"float:center\" width=\"60%\" src=\"pics/EMNIST.png\">\n",
    "\n",
    "\n",
    "La base de datos **NIST Special Database 19** contiene todo el corpus de materiales de formación del NIST para el reconocimiento de documentos y caracteres impresos a mano. Dispone de información recopilada de impresos a mano de unos 3.600 escritores, lo que proporciona unas 810.000 imágenes con clasificaciones comprobadas a mano.\n",
    "\n",
    "Referencia: *Cohen, G., Afshar, S., Tapson, J., & van Schaik, A. (2017). EMNIST: an extension of MNIST to handwritten letters. Retrieved from http://arxiv.org/abs/1702.05373*\n",
    "\n",
    "Se trata de imagenes sencillas, con poca variabilidad entre ellas, por lo que es un problema que podemos abordar empleando un perceptrón simple.\n",
    "\n",
    "Cada imagen en MNIST está perfectamente centrada y el dataset se halla idóneamente balanceado. En el mundo real los datos no se comportan tan bien. Así mismo, los ejemplos que representan cada clase presentan, por definición, poca variabilidad (después de todo, no hay demasiadas formas de escribir un 1). \n",
    "\n",
    "<div class=\"alert alert-info\"> <b>IMPORTANTE</b><br> Se utilizará el perceptron implementado en <b>Introducción a Redes Neuronales</b> y será necesario tener presente lo tratado en <b>Fundamentos de Procesamiento de Imagen</b>.</div>\n",
    "\n",
    "Todos los datos de **EMNIST** se encuentran en formato `IDX`."
   ]
  },
  {
   "cell_type": "markdown",
   "metadata": {},
   "source": [
    "### El formato IDX\n",
    "El formato de archivo IDX es un formato sencillo para vectores y matrices multidimensionales de diversos tipos numéricos. El formato básico es\n",
    "\n",
    "        magic number\n",
    "        size in dimension 0\n",
    "        size in dimension 1\n",
    "        size in dimension 2\n",
    "        .....\n",
    "        size in dimension N\n",
    "        data "
   ]
  },
  {
   "cell_type": "markdown",
   "metadata": {},
   "source": [
    "En los datos de los que disponemos, tendremos un archivo de imágenes y un archivo de etiquetas. Ambos archivos se encuentran \"sincronizados\" de forma que la primera etiqueta del archivo de etiquetas se corresponde con la primera imagen del archivo de imágenes y así con todas. Cada uno de los archivos vendrá dado por el siguiente esquema:\n",
    "\n",
    "**ARCHIVO DE CONJUNTO DE ETIQUETAS (labels-idx1-ubyte):**\n",
    "\n",
    "    [offset] [type]          [value]          [description]\n",
    "    0000     32 bit integer  0x00000801(2049) magic number (MSB first)\n",
    "    0004     32 bit integer  60000            number of items\n",
    "    0008     unsigned byte   ??               label\n",
    "    0009     unsigned byte   ??               label\n",
    "    ........\n",
    "    xxxx     unsigned byte   ??               label\n",
    "Los valores de las etiquetas toman valores de 0 a 46.\n",
    "\n",
    "**ARCHIVO DE CONJUNTO DE IMAGENES (images-idx3-ubyte):**\n",
    "\n",
    "    [offset] [type]          [value]          [description]\n",
    "    0000     32 bit integer  0x00000803(2051) magic number\n",
    "    0004     32 bit integer  60000            number of images\n",
    "    0008     32 bit integer  28               number of rows\n",
    "    0012     32 bit integer  28               number of columns\n",
    "    0016     unsigned byte   ??               pixel\n",
    "    0017     unsigned byte   ??               pixel\n",
    "    ........\n",
    "    xxxx     unsigned byte   ??               pixel"
   ]
  },
  {
   "cell_type": "markdown",
   "metadata": {},
   "source": [
    "## Objetivos:\n",
    "\n",
    "En esta práctica se emplearán las imágenes de *num-MNIST* y se cubrirán los siguientes puntos:\n",
    "\n",
    "1. Obtener un conjunto de datos $(X,y)$, donde:\n",
    "    - $X$ será un conjunto de *atributos* que describa una imagen. En este caso tomaremos los valores de los píxeles de una imagen.\n",
    "    - $y$ será la *clase*  \n",
    "    \n",
    "<br style=\"clear:both;\">\n",
    "\n",
    "2. Dividir el conjunto de datos (imágenes, en nuestro caso) en dos partes: \n",
    "    - (1) un conjunto de *entrenamiento* \n",
    "    - (2) un conjunto de *test*.  \n",
    "\n",
    "<br style=\"clear:both;\">\n",
    "\n",
    "3. Entrenar una *red neuronal* con la parte de los datos que forma el conjunto de *entrenamiento* y comprobar su funcionamiento con otra parte (conjunto de test), para la obtención de la tasa de acierto en el perceptrón simple.  \n",
    "    - Empleando el perceptrón propio.\n",
    "    - Empleando la red neuronal de **Sklearn**  \n",
    "\n",
    "<br style=\"clear:both;\">\n",
    "\n",
    "4. Manejar diferentes métricas y herramientas para testear un clasificador.\n",
    "    - Matriz de confusión\n",
    "    - Métricas:\n",
    "        - Exactitud\n",
    "        - Precisión\n",
    "        - Sensibilidad\n",
    "        \n",
    "<br style=\"clear:both;\">\n",
    "\n",
    "5. Implementar una red neuronal multicapa que permita clasificar todos los grupos de imágenes.\n",
    "\n",
    "<br style=\"clear:both;\">\n",
    "\n",
    "6. Introducir la validación cruzada como estrategia de valoración de un clasificador.\n",
    "\n",
    "<br style=\"clear:both;\">\n",
    "\n",
    "7. Añadir un nuevo conjunto de datos de test y obtener los resultados de rendimiento de las diferentes redes neuronales implementadas.\n",
    "\n",
    "----------------------------------------"
   ]
  },
  {
   "cell_type": "markdown",
   "metadata": {},
   "source": [
    "# 1. Datos\n",
    "\n",
    "## 1.1. Manejo de los archivos IDX\n",
    "\n",
    "- Descarga los archivos que se encuentran en la siguiente carpeta compartida MNIST: [Enlace Carpeta MNIST](https://universidaddeburgos-my.sharepoint.com/:f:/g/personal/dgarcia1_ubu_es/En7vGMQoS_tBo8fXA5F5dFoBC58TI9sJnWPBKqiUp3AUwQ?e=SmMkb3) \n",
    "\n",
    "- Descomprime correctamente cada uno de los archivos ```emnist-balanced-images-idx3-ubyte.gz``` y ```emnist-balanced-labels-idx1-ubyte.gz``` para obtener los datos de las imágenes y su correspondiente etiqueta.\n",
    "\n",
    "- Comprueba que puedes acceder a las imágenes empleando Python. \n",
    "    - El número de imágenes debe coincidir con el número de etiquetas\n",
    "    - Cada imagen tendrá asignada una etiqueta indexada en el mismo orden en el archivo ```labels```. Cada imagen tiene asignada una etiqueta que se corresponde con un indice (de 0 a 46), que se corresponderá a su vez con un caracter en formato ASCII (representado en la siguiente tabla entre comillas):\n",
    "<table style=\"font-size:large\">\n",
    "    <tr><td>0</td><td>\"0\"</td><td><img style=\"float:left\" width=\"100%\" src=\"pics/caracter_0.png\"></td><td>1</td><td>\"1\"</td><td><img style=\"float:left\" width=\"100%\" src=\"pics/caracter_1.png\"></td>\n",
    "    <td>2</td><td>\"2\"</td><td><img style=\"float:left\" width=\"100%\" src=\"pics/caracter_2.png\"></td><td>3</td><td>\"3\"</td><td><img style=\"float:left\" width=\"100%\" src=\"pics/caracter_3.png\"></td>\n",
    "    <td>4</td><td>\"4\"</td><td><img style=\"float:left\" width=\"100%\" src=\"pics/caracter_4.png\"></td><tr><td>5</td><td>\"5\"</td><td><img style=\"float:left\" width=\"100%\" src=\"pics/caracter_5.png\"></td>\n",
    "    <td>6</td><td>\"6\"</td><td><img style=\"float:left\" width=\"100%\" src=\"pics/caracter_6.png\"></td><td>7</td><td>\"7\"</td><td><img style=\"float:left\" width=\"100%\" src=\"pics/caracter_7.png\"></td>\n",
    "    <td>8</td><td>\"8\"</td><td><img style=\"float:left\" width=\"100%\" src=\"pics/caracter_8.png\"></td><td>9</td><td>\"9\"</td><td><img style=\"float:left\" width=\"100%\" src=\"pics/caracter_9.png\"></td></tr>\n",
    "    <tr><td>10</td><td>\"A\"</td><td><img style=\"float:left\" width=\"100%\" src=\"pics/caracter_10.png\"></td><td>11</td><td>\"B\"</td><td><img style=\"float:left\" width=\"100%\" src=\"pics/caracter_11.png\"></td>\n",
    "    <td>12</td><td>\"C\"</td><td><img style=\"float:left\" width=\"100%\" src=\"pics/caracter_12.png\"></td><td>3</td><td>\"D\"</td><td><img style=\"float:left\" width=\"100%\" src=\"pics/caracter_13.png\"></td>\n",
    "    <td>14</td><td>\"E\"</td><td><img style=\"float:left\" width=\"100%\" src=\"pics/caracter_14.png\"></td><tr><td>15</td><td>\"F\"</td><td><img style=\"float:left\" width=\"100%\" src=\"pics/caracter_15.png\"></td>\n",
    "    <td>16</td><td>\"G\"</td><td><img style=\"float:left\" width=\"100%\" src=\"pics/caracter_16.png\"></td><td>17</td><td>\"H\"</td><td><img style=\"float:left\" width=\"100%\" src=\"pics/caracter_17.png\"></td>\n",
    "    <td>18</td><td>\"I\"</td><td><img style=\"float:left\" width=\"100%\" src=\"pics/caracter_18.png\"></td><td>19</td><td>\"J\"</td><td><img style=\"float:left\" width=\"100%\" src=\"pics/caracter_19.png\"></td></tr>\n",
    "    <tr><td>20</td><td>\"K\"</td><td><img style=\"float:left\" width=\"100%\" src=\"pics/caracter_20.png\"></td><td>21</td><td>\"L\"</td><td><img style=\"float:left\" width=\"100%\" src=\"pics/caracter_21.png\"></td>\n",
    "    <td>22</td><td>\"M\"</td><td><img style=\"float:left\" width=\"100%\" src=\"pics/caracter_22.png\"></td><td>23</td><td>\"N\"</td><td><img style=\"float:left\" width=\"100%\" src=\"pics/caracter_23.png\"></td>\n",
    "    <td>24</td><td>\"O\"</td><td><img style=\"float:left\" width=\"100%\" src=\"pics/caracter_24.png\"></td><tr><td>25</td><td>\"P\"</td><td><img style=\"float:left\" width=\"100%\" src=\"pics/caracter_25.png\"></td>\n",
    "    <td>26</td><td>\"Q\"</td><td><img style=\"float:left\" width=\"100%\" src=\"pics/caracter_26.png\"></td><td>27</td><td>\"R\"</td><td><img style=\"float:left\" width=\"100%\" src=\"pics/caracter_27.png\"></td>\n",
    "    <td>28</td><td>\"S\"</td><td><img style=\"float:left\" width=\"100%\" src=\"pics/caracter_28.png\"></td><td>29</td><td>\"T\"</td><td><img style=\"float:left\" width=\"100%\" src=\"pics/caracter_29.png\"></td></tr>\n",
    "    <tr><td>30</td><td>\"U\"</td><td><img style=\"float:left\" width=\"100%\" src=\"pics/caracter_30.png\"></td><td>31</td><td>\"V\"</td><td><img style=\"float:left\" width=\"100%\" src=\"pics/caracter_31.png\"></td>\n",
    "    <td>32</td><td>\"W\"</td><td><img style=\"float:left\" width=\"100%\" src=\"pics/caracter_32.png\"></td><td>33</td><td>\"X\"</td><td><img style=\"float:left\" width=\"100%\" src=\"pics/caracter_33.png\"></td>\n",
    "    <td>34</td><td>\"Y\"</td><td><img style=\"float:left\" width=\"100%\" src=\"pics/caracter_34.png\"></td><tr><td>35</td><td>\"Z\"</td><td><img style=\"float:left\" width=\"100%\" src=\"pics/caracter_35.png\"></td>\n",
    "    <td>36</td><td>\"a\"</td><td><img style=\"float:left\" width=\"100%\" src=\"pics/caracter_36.png\"></td><td>37</td><td>\"b\"</td><td><img style=\"float:left\" width=\"100%\" src=\"pics/caracter_37.png\"></td>\n",
    "    <td>38</td><td>\"d\"</td><td><img style=\"float:left\" width=\"100%\" src=\"pics/caracter_38.png\"></td><td>39</td><td>\"e\"</td><td><img style=\"float:left\" width=\"100%\" src=\"pics/caracter_39.png\"></td></tr>\n",
    "    <tr><td>40</td><td>\"f\"</td><td><img style=\"float:left\" width=\"100%\" src=\"pics/caracter_40.png\"></td><td>41</td><td>\"g\"</td><td><img style=\"float:left\" width=\"100%\" src=\"pics/caracter_41.png\"></td>\n",
    "    <td>42</td><td>\"h\"</td><td><img style=\"float:left\" width=\"100%\" src=\"pics/caracter_42.png\"></td><td>43</td><td>\"n\"</td><td><img style=\"float:left\" width=\"100%\" src=\"pics/caracter_43.png\"></td>\n",
    "    <td>44</td><td>\"q\"</td><td><img style=\"float:left\" width=\"100%\" src=\"pics/caracter_44.png\"></td><tr><td>45</td><td>\"r\"</td><td><img style=\"float:left\" width=\"100%\" src=\"pics/caracter_45.png\"></td>\n",
    "    <td>46</td><td>\"t\"</td><td><img style=\"float:left\" width=\"100%\" src=\"pics/caracter_46.png\"></td></tr>\n",
    "</table>\n",
    "\n"
   ]
  },
  {
   "cell_type": "markdown",
   "metadata": {},
   "source": [
    "La función `carga_data_MNIST` que permite cargar los datos de ambos archivos IDX:\n",
    "\n",
    "Funciones empleadas:\n",
    "- ```join```del módulo ```path```de ```os```.\n",
    "- ```open```del módulo ```gzip```.\n",
    "\n",
    "Obtenemos una lista de imágenes (que proviene del archivo de imágenes) y una lista de indices (proveniente del archivo de 'labels'):"
   ]
  },
  {
   "cell_type": "code",
   "metadata": {
    "ExecuteTime": {
     "end_time": "2024-11-20T11:36:15.937294Z",
     "start_time": "2024-11-20T11:36:15.917284Z"
    }
   },
   "source": [
    "def carga_data_MNIST(input_path,file_images, file_labels ):\n",
    "    \"\"\" Permite cargar los datos almacenados en formato IDX\n",
    "    Parámetros\n",
    "    ----------\n",
    "        input_path: Carpeta en la que se encuentran los archivos\n",
    "        file_images: nombre del archivo de imágenes\n",
    "        file_labels: nombre del archivo de etiquetas\n",
    "    \n",
    "    Devolución\n",
    "    --------\n",
    "        images -- array 3D con los datos de cada imagen\n",
    "        labels -- array 1D con el numero de clase de cada de las imágenes\n",
    "    \"\"\"     \n",
    "    import gzip\n",
    "\n",
    "    import numpy as np\n",
    "    import matplotlib.pyplot as plt\n",
    "\n",
    "    from os.path  import join\n",
    "\n",
    "    images_path = join(input_path, file_images)\n",
    "    labels_path = join(input_path, file_labels)\n",
    "\n",
    "    ## Comenzamos con el archivo que contiene las imágenes:\n",
    "    print(\"***********************************\")\n",
    "    #Instanciamos el manejador de archivo mediante la función open \n",
    "    images_byte = gzip.open(images_path,'r')\n",
    "\n",
    "    #NÚMERO MAGICO\n",
    "    head=images_byte.read(4)\n",
    "    magic = int.from_bytes (head, \"big\")\n",
    "    print(\"Numero mágico para el archivo de imágenes:\")\n",
    "    print(magic)\n",
    "\n",
    "    #NUMERO DE IMAGENES\n",
    "    head=images_byte.read(4)\n",
    "    number_images = int.from_bytes (head, \"big\")\n",
    "    print(\"Numero de imágenes:\")\n",
    "    print(number_images)\n",
    "\n",
    "    #NUMERO DE FILAS DE LA IMAGEN\n",
    "    head=images_byte.read(4)\n",
    "    rows = int.from_bytes (head, \"big\")\n",
    "    print(\"Numero de filas (imágenes):\")\n",
    "    print(rows)\n",
    "\n",
    "    #NUMERO DE COLUMNAS DE LA IMAGEN\n",
    "    head=images_byte.read(4)\n",
    "    columns = int.from_bytes (head, \"big\")\n",
    "    print(\"Numero de columnas (imágenes):\")\n",
    "    print(columns)\n",
    "\n",
    "    #CARGA DE DATOS\n",
    "    buf = images_byte.read(rows * columns * number_images)\n",
    "    data = np.frombuffer(buf, dtype=np.uint8).astype(np.float32)\n",
    "    array = data.reshape(number_images, rows, columns)\n",
    "    images=array.swapaxes(1, 2)\n",
    "    \n",
    "    \n",
    "    ## A partir de aquí procesamos el archivo que contiene las etiquetas:\n",
    "    print(\"***********************************\")\n",
    "    labels_byte = gzip.open(labels_path,'r')\n",
    "\n",
    "    #NÚMERO MAGICO\n",
    "    head=labels_byte.read(4)\n",
    "    magic = int.from_bytes (head, \"big\")\n",
    "    print(\"Numero mágico para el archivo de etiquetas:\")\n",
    "    print(magic)\n",
    "\n",
    "    #NUMERO DE ETIQUETAS\n",
    "    head=labels_byte.read(4)\n",
    "    number_labels = int.from_bytes (head, \"big\")\n",
    "    print(\"Numero de etiquetas:\")\n",
    "    print(number_labels)\n",
    "\n",
    "    #CARGA DE ETIQUETAS\n",
    "    buf = labels_byte.read(number_labels)\n",
    "    labels = np.frombuffer(buf, dtype=np.uint8)\n",
    "    print(\"***********************************\")\n",
    "    \n",
    "    return images, labels"
   ],
   "outputs": [],
   "execution_count": 2
  },
  {
   "cell_type": "markdown",
   "metadata": {},
   "source": [
    "Según los archivos proporcionados, se va a trabajar con `112800` imágenes y por tanto con `112800` etiquetas. El tamaño de cada una de las imágenes es de 28x28 píxeles.\n",
    "\n",
    "<div class=\"alert alert-warning\"> <b>IMPORTANTE</b><br> Antes de continuar, comprueba que los datos indicados coinciden con los obtenidos de los archivos IDX proporcionados.</div>\n"
   ]
  },
  {
   "cell_type": "code",
   "metadata": {
    "ExecuteTime": {
     "end_time": "2024-11-20T11:36:21.347178Z",
     "start_time": "2024-11-20T11:36:19.335816Z"
    }
   },
   "source": [
    "input_path='Data'\n",
    "file_images= 'emnist-balanced-images-idx3-ubyte.gz'\n",
    "file_labels = 'emnist-balanced-labels-idx1-ubyte.gz'\n",
    "\n",
    "[images,labels]=carga_data_MNIST(input_path,file_images,file_labels)\n",
    "print(images.shape)\n",
    "print(labels.shape)"
   ],
   "outputs": [
    {
     "name": "stdout",
     "output_type": "stream",
     "text": [
      "***********************************\n",
      "Numero mágico para el archivo de imágenes:\n",
      "2051\n",
      "Numero de imágenes:\n",
      "112800\n",
      "Numero de filas (imágenes):\n",
      "28\n",
      "Numero de columnas (imágenes):\n",
      "28\n",
      "***********************************\n",
      "Numero mágico para el archivo de etiquetas:\n",
      "2049\n",
      "Numero de etiquetas:\n",
      "112800\n",
      "***********************************\n",
      "(112800, 28, 28)\n",
      "(112800,)\n"
     ]
    }
   ],
   "execution_count": 3
  },
  {
   "cell_type": "markdown",
   "metadata": {},
   "source": [
    "# `TAREA 1`\n",
    "\n",
    "Hasta el momento tenemos los valores de etiqueta obtenidos del archivo `labels`, pero este valor no nos proporciona información directa sobre el caracter que representa ese indice. Para ello tenemos a nuestra disposición un archivo que nos permite realizar esa 'traducción'. Se trata del archivo `claves_ASCII.txt` que se encuentra en la carpeta `MNIST_balanced`. \n",
    "\n",
    "Para poder trabajar en adelante con el caracter representado y no con el índice, se **solicita crear una función `crea_diccionario` con la que se obtenga un diccionario en el cual la clave será el indice (del 0 al 46) y el valor será el caracter ASCII que representa ('A', 'B', '0', '1'...)**. La función tendrá como parámetro de entrada un archivo de texto que será procesado convenientemente.\n",
    "\n",
    "De esta forma, la ejecución de la siguiente celda:"
   ]
  },
  {
   "cell_type": "code",
   "metadata": {
    "ExecuteTime": {
     "end_time": "2024-11-20T11:36:23.649913Z",
     "start_time": "2024-11-20T11:36:23.635569Z"
    }
   },
   "source": [
    "from Tarea_1 import crea_diccionario\n",
    "archivo_claves= \"Data\\\\claves_ASCII.txt\"\n",
    "caracteres=crea_diccionario(archivo_claves)\n",
    "print(caracteres)"
   ],
   "outputs": [
    {
     "name": "stdout",
     "output_type": "stream",
     "text": [
      "{0: '0', 1: '1', 2: '2', 3: '3', 4: '4', 5: '5', 6: '6', 7: '7', 8: '8', 9: '9', 10: 'A', 11: 'B', 12: 'C', 13: 'D', 14: 'E', 15: 'F', 16: 'G', 17: 'H', 18: 'I', 19: 'J', 20: 'K', 21: 'L', 22: 'M', 23: 'N', 24: 'O', 25: 'P', 26: 'Q', 27: 'R', 28: 'S', 29: 'T', 30: 'U', 31: 'V', 32: 'W', 33: 'X', 34: 'Y', 35: 'Z', 36: 'a', 37: 'b', 38: 'd', 39: 'e', 40: 'f', 41: 'g', 42: 'h', 43: 'n', 44: 'q', 45: 'r', 46: 't'}\n"
     ]
    }
   ],
   "execution_count": 4
  },
  {
   "cell_type": "markdown",
   "metadata": {},
   "source": [
    "El resultado de la ejecución de la celda anterior, debería proporcionar una estructura de datos `caracteres` con el siguiente contenido:\n",
    "\n",
    "```\n",
    "{0: '0', 1: '1', 2: '2', 3: '3', 4: '4', 5: '5', 6: '6', 7: '7', 8: '8', 9: '9', 10: 'A', 11: 'B', 12: 'C', 13: 'D', 14: 'E', 15: 'F', 16: 'G', 17: 'H', 18: 'I', 19: 'J', 20: 'K', 21: 'L', 22: 'M', 23: 'N', 24: 'O', 25: 'P', 26: 'Q', 27: 'R', 28: 'S', 29: 'T', 30: 'U', 31: 'V', 32: 'W', 33: 'X', 34: 'Y', 35: 'Z', 36: 'a', 37: 'b', 38: 'd', 39: 'e', 40: 'f', 41: 'g', 42: 'h', 43: 'n', 44: 'q', 45: 'r', 46: 't'}\n",
    "\n",
    "```\n",
    "\n"
   ]
  },
  {
   "cell_type": "markdown",
   "metadata": {},
   "source": [
    "---\n",
    "## 1.2. Procesado de las imágenes\n",
    "\n",
    "En las siguientes celdas vamos a ir viendo cual es el contenido de las estructuras de datos obtenidas de la lectura de los archivos `IDX`.\n",
    "\n",
    "Seleccionamos una de las imágenes y etiqueta que se encuentren pareadas al azar (deben coincidir en el índice):"
   ]
  },
  {
   "cell_type": "code",
   "metadata": {
    "ExecuteTime": {
     "end_time": "2024-11-20T11:36:26.161630Z",
     "start_time": "2024-11-20T11:36:26.148450Z"
    }
   },
   "source": [
    "img = images[83]\n",
    "eti = labels[83]\n",
    "print(eti)\n",
    "print(img)"
   ],
   "outputs": [
    {
     "name": "stdout",
     "output_type": "stream",
     "text": [
      "3\n",
      "[[  0.   0.   0.   0.   0.   0.   0.   0.   0.   0.   0.   0.   0.   0.\n",
      "    0.   0.   0.   0.   0.   0.   0.   0.   0.   0.   0.   0.   0.   0.]\n",
      " [  0.   0.   0.   0.   0.   0.   0.   0.   0.   0.   0.   0.   0.   0.\n",
      "    0.   0.   0.   1.   0.   0.   2.   2.   0.   0.   0.   0.   0.   0.]\n",
      " [  0.   0.   0.   0.   0.   0.   0.   0.   0.   8.  27.  14.  32.  26.\n",
      "   39.  82. 128. 159. 139. 129. 172. 126.  23.   0.   0.   0.   0.   0.]\n",
      " [  0.   0.   0.   0.   0.   0.   0.   0.   2. 121. 190. 153. 203. 185.\n",
      "  217. 233. 250. 251. 250. 250. 252. 234. 154.   2.   0.   0.   0.   0.]\n",
      " [  0.   0.   0.   0.   0.   0.   0.   0.   4. 217. 254. 254. 254. 254.\n",
      "  254. 255. 254. 254. 254. 254. 255. 254. 217.   4.   0.   0.   0.   0.]\n",
      " [  0.   0.   0.   0.   0.   0.   0.   0.   4. 217. 254. 254. 254. 254.\n",
      "  253. 252. 245. 222. 236. 254. 255. 254. 217.   4.   0.   0.   0.   0.]\n",
      " [  0.   0.   0.   0.   0.   0.   0.   0.   2. 108. 127. 127. 127. 125.\n",
      "   94.  81.  36.  46. 179. 254. 254. 246. 158.   2.   0.   0.   0.   0.]\n",
      " [  0.   0.   0.   0.   0.   0.   0.   0.   0.   3.   4.   4.   4.   4.\n",
      "    3.   3.  79. 175. 246. 254. 254. 175.  36.   0.   0.   0.   0.   0.]\n",
      " [  0.   0.   0.   0.   0.   0.   0.   0.   0.   0.   0.   0.   0.   0.\n",
      "    1.  35. 218. 251. 254. 254. 251.  83.   3.   0.   0.   0.   0.   0.]\n",
      " [  0.   0.   0.   0.   0.   0.   0.   0.   0.   0.   0.   0.   8.  34.\n",
      "  128. 221. 254. 254. 254. 244. 163.   7.   0.   0.   0.   0.   0.   0.]\n",
      " [  0.   0.   0.   0.   0.   0.   0.   0.   0.   3.  21.  38. 127. 204.\n",
      "  246. 254. 254. 255. 252. 132.  33.   0.   0.   0.   0.   0.   0.   0.]\n",
      " [  0.   0.   0.   0.   0.   0.   0.  32. 113. 172. 232. 249. 254. 254.\n",
      "  255. 255. 255. 255. 250.  52.   1.   0.   0.   0.   0.   0.   0.   0.]\n",
      " [  0.   0.   0.   0.   0.   0.   0. 115. 241. 252. 254. 254. 255. 255.\n",
      "  254. 254. 254. 254. 254. 159.  22.   0.   0.   0.   0.   0.   0.   0.]\n",
      " [  0.   0.   0.   0.   0.   0.   4. 203. 254. 254. 254. 254. 245. 222.\n",
      "  205. 172. 174. 234. 254. 245. 114.   0.   0.   0.   0.   0.   0.   0.]\n",
      " [  0.   0.   0.   0.   0.   0.   4. 213. 252. 250. 233. 204. 115.  51.\n",
      "   33.  21.  25. 132. 246. 250. 140.   0.   0.   0.   0.   0.   0.   0.]\n",
      " [  0.   0.   0.   0.   0.   0.   0.  33.  80.  50.  21.   4.   0.   0.\n",
      "    0.   0.   0.  39. 217. 254. 219.   8.   0.   0.   0.   0.   0.   0.]\n",
      " [  0.   0.   0.   0.   0.   0.   0.   0.   2.   0.   0.   0.   0.   0.\n",
      "    0.   0.   0.  39. 217. 254. 228.  16.   0.   0.   0.   0.   0.   0.]\n",
      " [  0.   0.   0.   0.   0.   0.   0.   0.   0.   0.   0.   0.   0.   0.\n",
      "    0.   0.  67. 175. 247. 254. 217.   4.   0.   0.   0.   0.   0.   0.]\n",
      " [  0.   0.   0.   0.   0.   0.   0.   0.   0.   0.   0.   0.   0.   0.\n",
      "    1.  33. 187. 250. 254. 254. 203.   4.   0.   0.   0.   0.   0.   0.]\n",
      " [  0.   0.   0.   0.   0.   0.   0.   0.   0.   0.   0.   0.   1.  22.\n",
      "  128. 221. 254. 254. 254. 242. 115.   0.   0.   0.   0.   0.   0.   0.]\n",
      " [  0.   0.   0.   0.   0.   0.   0.   4.   2.   0.   2.   9.  52. 159.\n",
      "  246. 254. 254. 254. 251. 131.  32.   0.   0.   0.   0.   0.   0.   0.]\n",
      " [  0.   0.   0.   0.   0.   7.  46. 124.  78.  35.  82. 139. 220. 247.\n",
      "  254. 254. 254. 249. 207.  23.   0.   0.   0.   0.   0.   0.   0.   0.]\n",
      " [  0.   0.   0.   0.   0. 113. 242. 254. 248. 246. 252. 254. 254. 254.\n",
      "  254. 234. 140. 109.  22.   0.   0.   0.   0.   0.   0.   0.   0.   0.]\n",
      " [  0.   0.   0.   0.   0. 127. 250. 254. 254. 254. 254. 255. 254. 253.\n",
      "  218. 126.   9.   4.   0.   0.   0.   0.   0.   0.   0.   0.   0.   0.]\n",
      " [  0.   0.   0.   0.   0. 125. 246. 254. 254. 252. 250. 245. 204. 126.\n",
      "   11.   2.   0.   0.   0.   0.   0.   0.   0.   0.   0.   0.   0.   0.]\n",
      " [  0.   0.   0.   0.   0.  63. 138. 215. 217. 172. 129. 114.  34.   8.\n",
      "    0.   0.   0.   0.   0.   0.   0.   0.   0.   0.   0.   0.   0.   0.]\n",
      " [  0.   0.   0.   0.   0.   0.   0.   4.   4.   2.   0.   0.   0.   0.\n",
      "    0.   0.   0.   0.   0.   0.   0.   0.   0.   0.   0.   0.   0.   0.]\n",
      " [  0.   0.   0.   0.   0.   0.   0.   0.   0.   0.   0.   0.   0.   0.\n",
      "    0.   0.   0.   0.   0.   0.   0.   0.   0.   0.   0.   0.   0.   0.]]\n"
     ]
    }
   ],
   "execution_count": 5
  },
  {
   "cell_type": "markdown",
   "metadata": {},
   "source": [
    "### 1.2.1 Muestra una imagen\n",
    "\n",
    "Empleando las funciones de **skimage** que vimos en anteriores sesiones, podemos cargar y procesar las imágenes:"
   ]
  },
  {
   "cell_type": "code",
   "metadata": {
    "ExecuteTime": {
     "end_time": "2024-11-20T11:36:29.093993Z",
     "start_time": "2024-11-20T11:36:28.039343Z"
    }
   },
   "source": [
    "from skimage.io import imshow, imread\n",
    "import matplotlib.pyplot as plt\n",
    "fig, ax = plt.subplots(figsize=(5, 5))\n",
    "ax.imshow(img,cmap='gray')\n",
    "ax.set_title(eti)\n",
    "plt.tight_layout()\n",
    "plt.show()"
   ],
   "outputs": [
    {
     "data": {
      "text/plain": [
       "<Figure size 500x500 with 1 Axes>"
      ],
      "image/png": "[encoded data removed]"
     },
     "metadata": {},
     "output_type": "display_data"
    }
   ],
   "execution_count": 6
  },
  {
   "cell_type": "markdown",
   "metadata": {},
   "source": [
    "### 1.2.2 Muestra varias imágenes\n",
    "\n",
    "Mediante la función `show_images` podemos mostrar varias imágenes y su correspondiente caracter:"
   ]
  },
  {
   "cell_type": "code",
   "metadata": {
    "ExecuteTime": {
     "end_time": "2024-11-20T11:36:33.825428Z",
     "start_time": "2024-11-20T11:36:33.809984Z"
    }
   },
   "source": [
    "def show_images(images, labels, caracteres, columnas, filas):\n",
    "    \"\"\" Permite mostrar la primeras n imagenes ( n = columnas x filas)\n",
    "    Parámetros\n",
    "    ----------\n",
    "        images -- array 3D con los datos de cada imagen\n",
    "        labels -- array 1D con el numero de clase de cada de las imágenes\n",
    "        caracteres -- diccionario que proprociona el caracter que se corresponde a cada una de las imágenes\n",
    "        columnas: numero de columnas a mostrar\n",
    "        filas: numero de filas a mostrar\n",
    "    \"\"\"    \n",
    "    fig, ax = plt.subplots(ncols=columnas,nrows=filas,figsize=(10, 10))\n",
    "    axes=ax.ravel()\n",
    "    index = 0   \n",
    "     \n",
    "    for x in zip(images, labels):        \n",
    "        image = x[0]        \n",
    "        label = caracteres[x[1]]\n",
    "         \n",
    "        axes[index].imshow(image,cmap='gray')\n",
    "        axes[index].set_title(label)\n",
    "        axes[index].axis(\"off\")\n",
    " \n",
    "        plt.title(label);        \n",
    "        index += 1\n",
    "        if index>=(columnas*filas):\n",
    "            plt.tight_layout()\n",
    "            plt.show()\n",
    "            return"
   ],
   "outputs": [],
   "execution_count": 9
  },
  {
   "metadata": {
    "ExecuteTime": {
     "end_time": "2024-11-20T09:05:57.015949Z",
     "start_time": "2024-11-20T09:05:56.637048Z"
    }
   },
   "cell_type": "code",
   "source": "show_images(images,labels,caracteres,2,2)",
   "outputs": [
    {
     "data": {
      "text/plain": [
       "<Figure size 1000x1000 with 4 Axes>"
      ],
      "image/png": "[encoded data removed]"
     },
     "metadata": {},
     "output_type": "display_data"
    }
   ],
   "execution_count": 16
  },
  {
   "cell_type": "markdown",
   "metadata": {},
   "source": [
    "Si está todo correcto, la ejecución de:\n",
    "\n",
    "```python\n",
    "show_images(images,labels,caracteres,3,3)\n",
    "```\n",
    "\n",
    "debería proporcionar una imagen similar a esta:\n",
    "\n",
    "\n",
    "<img style=\"float:center\" width=\"60%\" src=\"pics/imagenes_labels.png\">\n"
   ]
  },
  {
   "cell_type": "markdown",
   "metadata": {},
   "source": [
    "### 1.2.3 Características de las imágenes:\n",
    "\n",
    "Empleando propiedades específicas podemos obtener el tamaño de cada una de las imágenes:"
   ]
  },
  {
   "cell_type": "code",
   "metadata": {
    "ExecuteTime": {
     "end_time": "2024-11-20T11:36:38.941852Z",
     "start_time": "2024-11-20T11:36:38.933919Z"
    }
   },
   "source": [
    "'''\n",
    "Obtener el tamaño de la imagen\n",
    "'''\n",
    "print(img.shape)"
   ],
   "outputs": [
    {
     "name": "stdout",
     "output_type": "stream",
     "text": [
      "(28, 28)\n"
     ]
    }
   ],
   "execution_count": 10
  },
  {
   "cell_type": "code",
   "metadata": {
    "ExecuteTime": {
     "end_time": "2024-11-20T11:36:40.762921Z",
     "start_time": "2024-11-20T11:36:40.755863Z"
    }
   },
   "source": [
    "print(img.size) # alto x ancho (el número total de pixels)"
   ],
   "outputs": [
    {
     "name": "stdout",
     "output_type": "stream",
     "text": [
      "784\n"
     ]
    }
   ],
   "execution_count": 11
  },
  {
   "cell_type": "markdown",
   "metadata": {},
   "source": [
    "### 1.2.4 Modificando el formato de las imágenes:\n",
    "\n",
    "Para poder trabajar con los datos de las imágenes en las redes neuronales a implementar, tendremos que pasar de datos en dos dimensiones a una única dimensión:"
   ]
  },
  {
   "cell_type": "code",
   "metadata": {
    "ExecuteTime": {
     "end_time": "2024-11-20T11:36:45.001984Z",
     "start_time": "2024-11-20T11:36:44.995416Z"
    }
   },
   "source": [
    "'''\n",
    "[[p00,p01],\n",
    " [p10,p11]]  => [p00,p01,p10,p11]\n",
    "\n",
    "'''\n",
    "# Se pasa a una sola fila y se convierte en lista (la imagen se \"vectoriza\")\n",
    "lista_pixels = img.reshape(img.size).tolist()\n",
    "\n",
    "# Muestro los primeros\n",
    "print(lista_pixels[:10])"
   ],
   "outputs": [
    {
     "name": "stdout",
     "output_type": "stream",
     "text": [
      "[0.0, 0.0, 0.0, 0.0, 0.0, 0.0, 0.0, 0.0, 0.0, 0.0]\n"
     ]
    }
   ],
   "execution_count": 12
  },
  {
   "cell_type": "markdown",
   "metadata": {},
   "source": [
    "Además, para optimizar y facilitar el coste computacional de los procesos, vamos a reducir el tamaño de las imágenes, pasando a tener imágenes de 16x16:"
   ]
  },
  {
   "cell_type": "code",
   "metadata": {
    "ExecuteTime": {
     "end_time": "2024-11-20T11:36:50.726046Z",
     "start_time": "2024-11-20T11:36:50.359076Z"
    }
   },
   "source": [
    "'''\n",
    "Redimensionar una imagen a 16 x 16\n",
    "'''\n",
    "\n",
    "from skimage.transform import resize\n",
    "import warnings\n",
    "\n",
    "'''\n",
    "El Método resize muestra un \"warning\", \n",
    "El Método filterwarnings permite ignorar el \"warning\" y que no se muestre en pantalla.\n",
    "''' \n",
    "warnings.filterwarnings(\"ignore\")\n",
    "\n",
    "fig, ax = plt.subplots(ncols=2,figsize=(10, 10))\n",
    "axes=ax.ravel()\n",
    "\n",
    "axes[0].imshow(img,cmap='gray')\n",
    "axes[0].set_title(\"Original (28x28)\")\n",
    "axes[0].axis(\"off\")\n",
    "\n",
    "\n",
    "img_mini =  resize(img, (16, 16))\n",
    "axes[1].imshow(img_mini,cmap='gray')\n",
    "axes[1].set_title(\"Resize (16x16)\")\n",
    "axes[1].axis(\"off\")\n",
    "\n",
    "plt.tight_layout()\n",
    "plt.show()"
   ],
   "outputs": [
    {
     "data": {
      "text/plain": [
       "<Figure size 1000x1000 with 2 Axes>"
      ],
      "image/png": "[encoded data removed]"
     },
     "metadata": {},
     "output_type": "display_data"
    }
   ],
   "execution_count": 13
  },
  {
   "cell_type": "markdown",
   "metadata": {},
   "source": [
    "## 1.3. Obtención del conjunto de datos\n",
    "\n",
    "Para entrenar una red neuronal (o cualquier otro clasificador), se necesita un conjunto de datos.\n",
    "\n",
    "El conjunto de datos estará formado por $X$ e $y$. \n",
    "\n",
    "- $X$ será un array 2D con tantas filas como imágenes y tantas columnas como atributos se usen para describir cada imagen. En nuestro caso, los atributos serán simplemente los valores de los píxeles.\n",
    "- $y$ será un array de una sola dimensión, con tantos elementos como imágenes. Sus valores serán los nombres de las clases de cada imagen.\n",
    "\n",
    "***Ejemplo inventado***.\n",
    "Los valores de los atributos van entre 0 y 1 con formato float. Es 0 si el color del pixel es negro, y 1, si es blanco.\n",
    "<table>\n",
    "<tr style=\"border-top: 1px solid\"><th>X<sub>1</sub></th><th>X<sub>2</sub></th><th>...</th><th>X<sub>n</sub></th><th>y</th></tr>\n",
    "    <tr style=\"border-top: 1px solid\"><td>0.1</td><td>0.3</td><td>...</td><td>0.8</td><td>'a'</td></tr>\n",
    "    <tr style=\"border-top: 1px solid\"><td>0.2</td><td>0.2</td><td>...</td><td>0.3</td><td>'A'</td></tr>\n",
    "    <tr style=\"border-top: 1px solid\"><td>0.9</td><td>0.2</td><td>...</td><td>0.3</td><td>'b'</td></tr>\n",
    "    <tr style=\"border-top: 1px solid\"><td>0.9</td><td>0.5</td><td>...</td><td>0.3</td><td>'Z'</td></tr>\n",
    "    <tr style=\"border-top: 1px solid\"><td>0.8</td><td>0.7</td><td>...</td><td>0.8</td><td>'3'</td></tr>\n",
    "    <tr style=\"border-top: 1px solid\"><td>0.1</td><td>0.4</td><td>...</td><td>0.6</td><td>'8'</td></tr>\n",
    "</table>"
   ]
  },
  {
   "cell_type": "markdown",
   "metadata": {},
   "source": [
    "# `TAREA 2`\n",
    "**Implementar una función *get_dataset()* que devuelva $X$ e $y$.** \n",
    "- HINT: para incluir todos los datos en un único vector se puede emplear *reshape*."
   ]
  },
  {
   "metadata": {},
   "cell_type": "markdown",
   "source": "La función esta implementada en el archivo Tarea_2.py"
  },
  {
   "metadata": {
    "ExecuteTime": {
     "end_time": "2024-11-20T11:39:50.298875Z",
     "start_time": "2024-11-20T11:39:28.947428Z"
    }
   },
   "cell_type": "code",
   "source": [
    "from Tarea_2 import getdataset\n",
    "Ximage, yimage= getdataset(images,labels, caracteres, 16)\n",
    "print(Ximage.shape,yimage.shape)\n"
   ],
   "outputs": [
    {
     "name": "stdout",
     "output_type": "stream",
     "text": [
      "(112800, 256) (112800,)\n"
     ]
    }
   ],
   "execution_count": 15
  },
  {
   "cell_type": "markdown",
   "metadata": {},
   "source": [
    "Una vez cargados todos los archivos correctamente, ejecución de las siguientes líneas de código:\n",
    "```python\n",
    "Ximage, yimage=getdataset(images,labels, caracteres, 16)\n",
    "print(Ximage.shape,yimage.shape)\n",
    "```\n",
    "deberían mostrar por pantalla:\n",
    "\n",
    "```\n",
    "(112800, 256) (112800,)\n",
    "```"
   ]
  },
  {
   "cell_type": "markdown",
   "metadata": {},
   "source": [
    "# 2. Construcción y evaluación de un *clasificador de formas*. \n",
    "\n",
    "\n",
    "Tal y como ya hemos visto, en **Python** tenemos una librería de minería de datos llamada **Scikit-learn** o **Sklearn**. En el entrenamiento del perceptrón, trabajamos con esta librería puesto que nos permite entrenar muchos tipos de clasificadores, entre ellos, una **red neuronal**.\n",
    "\n",
    "Para esta práctica, por el momento, solamente tenemos un conjunto de imágenes, por lo que unicamente disponemos un conjunto de datos. \n",
    "\n",
    "## 2.1 Creación de los conjuntos de datos\n",
    "\n",
    "Para comprobar el funcionamiento de nuestro clasificador, necesitamos un conjunto de datos de entrenamiento que nos permita configurar el percetrón. Es decir, tenemos que descomponer el conjunto de datos en dos subconjuntos: \n",
    "* entrenamiento\n",
    "\n",
    "* test.\n",
    "\n",
    "Para este trabajo, vamos a implementar una *partición* de **70/30**, para *entrenamiento/test*.\n",
    "\n",
    "El método ```train_test_split``` del módulo ```sklearn.model_selection``` permite dividir un conjunto de datos en dos partes, una para entrenar el clasificador, y otra para evaluar su funcionamiento (test).\n",
    "\n",
    "<div class=\"alert alert-info\"> <b>from</b> sklearn.model_selection <b>import</b> train_test_split<br>\n",
    "    <b>help </b>(train_test_split)<br></div>\n",
    "\n",
    "**Importante:** El uso de la propiedad de *estratificación* (```stratify```) como flag en el método ```train_test_split``` permite que haya la misma proporción de clases en entrenamiento que en test."
   ]
  },
  {
   "cell_type": "markdown",
   "metadata": {},
   "source": [
    "Para ello emplearemos una llamada al método `train_test_split` de la siguiente manera:\n",
    "\n",
    "```Python\n",
    "from sklearn.model_selection import train_test_split\n",
    "\n",
    "'''\n",
    "El par X_train, y_train son los atributos y clases del conjunto de entrenamiento (70% de los ejemplos)\n",
    "El par X_test, y_test son los atributos y clases del conjunto de test (30% de los ejemplos)\n",
    "\n",
    "stratify (estratificar) significa que se quiere que haya la misma proporcion de cada una de las clases\n",
    "tanto en entrenamiento como en test, es decir, no es una partición completamente aleatoria.\n",
    "'''\n",
    "X_train, X_test, y_train, y_test = train_test_split(Ximage, yimage, stratify=yimage, train_size = 0.7 )\n",
    "\n",
    "\n",
    "```"
   ]
  },
  {
   "metadata": {
    "ExecuteTime": {
     "end_time": "2024-11-20T11:40:03.465756Z",
     "start_time": "2024-11-20T11:40:01.246056Z"
    }
   },
   "cell_type": "code",
   "source": [
    "from sklearn.model_selection import train_test_split\n",
    "X_train, X_test, y_train, y_test = train_test_split(Ximage, yimage, stratify=yimage, train_size = 0.7 )"
   ],
   "outputs": [],
   "execution_count": 16
  },
  {
   "cell_type": "markdown",
   "metadata": {},
   "source": [
    "En nuestro ejemplo, tenemos 47 clases diferentes, cada una de ellas con 2400 imágenes, por lo tanto:\n",
    "- 112800 imágenes en total\n",
    "    - **78960** serán de entrenamiento **(70%)**\n",
    "    - **33840** serán de test **(30%)**\n",
    "        \n",
    "- Dado que están balanceadas por clases, para cada caracter (\"0\", \"1\",...\"A\", \"B\",...) tendremos:\n",
    "    - 2400 imagenes por clase\n",
    "        - 1680 imágenes de entrenamiento"
   ]
  },
  {
   "cell_type": "markdown",
   "metadata": {},
   "source": [
    "La ejecución del siguiente código:\n",
    "\n",
    "```python\n",
    "print(y_train.shape)\n",
    "print(y_test.shape)\n",
    "print(X_train.shape)\n",
    "print(X_train[0:20])\n",
    "print(y_train[0:20])\n",
    "```\n",
    "\n",
    "nos debe proporcionar una salida similar a esta:\n",
    " ```\n",
    " (78960,)\n",
    "(33840,)\n",
    "(78960, 256)\n",
    "[[0.00000000e+00 0.00000000e+00 0.00000000e+00 ... 0.00000000e+00\n",
    "  0.00000000e+00 0.00000000e+00]\n",
    " [0.00000000e+00 0.00000000e+00 0.00000000e+00 ... 0.00000000e+00\n",
    "  0.00000000e+00 0.00000000e+00]\n",
    " [0.00000000e+00 0.00000000e+00 0.00000000e+00 ... 0.00000000e+00\n",
    "  0.00000000e+00 0.00000000e+00]\n",
    " ...\n",
    " [0.00000000e+00 0.00000000e+00 0.00000000e+00 ... 0.00000000e+00\n",
    "  0.00000000e+00 0.00000000e+00]\n",
    " [0.00000000e+00 0.00000000e+00 0.00000000e+00 ... 4.80951887e-04\n",
    "  7.97951483e-09 0.00000000e+00]\n",
    " [0.00000000e+00 0.00000000e+00 0.00000000e+00 ... 4.16548263e-12\n",
    "  0.00000000e+00 0.00000000e+00]]\n",
    "['S' 'Z' 'G' 'S' 'G' '8' 'W' 'X' 'a' 'H' 'F' 'b' 'b' 'B' 'W' 'K' 'V' 'W'\n",
    " 'E' 'C']\n",
    " ```"
   ]
  },
  {
   "metadata": {
    "ExecuteTime": {
     "end_time": "2024-11-20T11:40:37.088439Z",
     "start_time": "2024-11-20T11:40:37.080705Z"
    }
   },
   "cell_type": "code",
   "source": [
    "print(y_train.shape)\n",
    "print(y_test.shape)\n",
    "print(X_train.shape)\n",
    "print(X_train[0:20])\n",
    "print(y_train[0:20])"
   ],
   "outputs": [
    {
     "name": "stdout",
     "output_type": "stream",
     "text": [
      "(78960,)\n",
      "(33840,)\n",
      "(78960, 256)\n",
      "[[0.00000000e+00 0.00000000e+00 0.00000000e+00 ... 0.00000000e+00\n",
      "  0.00000000e+00 0.00000000e+00]\n",
      " [0.00000000e+00 0.00000000e+00 0.00000000e+00 ... 2.39685192e-04\n",
      "  7.97988065e-10 0.00000000e+00]\n",
      " [3.90513983e-13 2.56136673e-07 5.57374005e-06 ... 0.00000000e+00\n",
      "  0.00000000e+00 0.00000000e+00]\n",
      " ...\n",
      " [0.00000000e+00 0.00000000e+00 0.00000000e+00 ... 0.00000000e+00\n",
      "  0.00000000e+00 0.00000000e+00]\n",
      " [0.00000000e+00 0.00000000e+00 0.00000000e+00 ... 0.00000000e+00\n",
      "  0.00000000e+00 0.00000000e+00]\n",
      " [0.00000000e+00 1.67572267e-08 4.31432435e-03 ... 0.00000000e+00\n",
      "  0.00000000e+00 0.00000000e+00]]\n",
      "['5' '9' 'V' 'g' 'E' 'H' 'X' '5' '9' '4' '7' '0' '9' 'f' 'O' 'n' '5' 'q'\n",
      " 'P' 'Y']\n"
     ]
    }
   ],
   "execution_count": 17
  },
  {
   "cell_type": "markdown",
   "metadata": {},
   "source": [
    "# 3. Clasificación con perceptrón simple\n",
    "\n",
    "El perceptron simple que tenemos implementado de la sesión anterior, unicamente es capaz de clasificar dos clases a la vez.\n",
    "\n",
    "Además, tal cual hemos realizado nuestra implementación, las clases serán binarias, no nombres.\n",
    "\n",
    "Veamos un ejemplo:"
   ]
  },
  {
   "cell_type": "code",
   "metadata": {
    "scrolled": true,
    "ExecuteTime": {
     "end_time": "2024-11-20T11:42:59.476784Z",
     "start_time": "2024-11-20T11:42:59.471846Z"
    }
   },
   "source": [
    "'''\n",
    "Uso de la máscara booleana \n",
    "- Seleccionar solo los datos que cumplan un criterio\n",
    "- convertir un array de algún tipo en un array de 0s y 1s, con 1s donde se cumple el criterio\n",
    "\n",
    "'''\n",
    "import numpy as np \n",
    "\n",
    "a = np.array([1,2,3,4,5,6])\n",
    "mascara = a < 4\n",
    "\n",
    "print(mascara)\n",
    "print(a[mascara])\n",
    "\n",
    "# astype cambia al tipo que se quiera\n",
    "print(mascara.astype(int)) # los True se convierten en 1s los False en 0s\n"
   ],
   "outputs": [
    {
     "name": "stdout",
     "output_type": "stream",
     "text": [
      "[ True  True  True False False False]\n",
      "[1 2 3]\n",
      "[1 1 1 0 0 0]\n"
     ]
    }
   ],
   "execution_count": 18
  },
  {
   "cell_type": "markdown",
   "metadata": {},
   "source": [
    "En el caso de las imágenes con las que estamos trabajando, el planteamiento es similar, solo que tendremos que seleccionar un par de clases. Por ejemplo:\n",
    "\n",
    "```Python \n",
    "'''\n",
    "Seleccionamos sólo los casos en los que la clase sea \"A\" o \"3\" (por ejemplo)\n",
    "\n",
    "X_2C de todos los ejemplos de X solo se seleccionan aquellos donde la clase es \"A\" o \"3\"\n",
    "y_2C de todos los ejemplos de y solo se seleccionan aquellos donde la clase es \"A\" o \"3\"\n",
    "'''\n",
    "X_2C = Ximage[((yimage == 'A') | (yimage == '3'))]\n",
    "y_2C = yimage[((yimage == 'A') | (yimage == '3'))\n",
    "\n",
    "# Tenemos solo dos clases, pero las etiquetas siguen siendo cadenas de texto\n",
    "print(X_2C.shape)\n",
    "print(X_2C)\n",
    "print(y_2C.shape)\n",
    "print(y_2C)\n",
    "\n",
    "```\n",
    "\n",
    "debemos obtener:\n",
    "\n",
    "```\n",
    "(4800, 256)\n",
    "[[5.57877143e-14 6.62299868e-08 1.92427193e-03 ... 0.00000000e+00\n",
    "  0.00000000e+00 0.00000000e+00]\n",
    " [0.00000000e+00 0.00000000e+00 0.00000000e+00 ... 0.00000000e+00\n",
    "  0.00000000e+00 0.00000000e+00]\n",
    " [0.00000000e+00 0.00000000e+00 0.00000000e+00 ... 0.00000000e+00\n",
    "  0.00000000e+00 0.00000000e+00]\n",
    " ...\n",
    " [0.00000000e+00 0.00000000e+00 0.00000000e+00 ... 0.00000000e+00\n",
    "  0.00000000e+00 0.00000000e+00]\n",
    " [0.00000000e+00 0.00000000e+00 0.00000000e+00 ... 0.00000000e+00\n",
    "  0.00000000e+00 0.00000000e+00]\n",
    " [0.00000000e+00 0.00000000e+00 0.00000000e+00 ... 0.00000000e+00\n",
    "  0.00000000e+00 0.00000000e+00]]\n",
    "(4800,)\n",
    "['3' '3' '3' ... 'A' 'A' 'A']\n",
    "\n",
    "```"
   ]
  },
  {
   "metadata": {
    "ExecuteTime": {
     "end_time": "2024-11-20T11:43:02.200667Z",
     "start_time": "2024-11-20T11:43:02.183085Z"
    }
   },
   "cell_type": "code",
   "source": [
    "X_2C = Ximage[((yimage == 'A') | (yimage == '3'))]\n",
    "y_2C = yimage[((yimage == 'A') | (yimage == '3'))]\n",
    "\n",
    "# Tenemos solo dos clases, pero las etiquetas siguen siendo cadenas de texto\n",
    "print(X_2C.shape)\n",
    "print(X_2C)\n",
    "print(y_2C.shape)\n",
    "print(y_2C)"
   ],
   "outputs": [
    {
     "name": "stdout",
     "output_type": "stream",
     "text": [
      "(4800, 256)\n",
      "[[5.57877143e-14 6.62299868e-08 1.92427193e-03 ... 0.00000000e+00\n",
      "  0.00000000e+00 0.00000000e+00]\n",
      " [0.00000000e+00 0.00000000e+00 0.00000000e+00 ... 0.00000000e+00\n",
      "  0.00000000e+00 0.00000000e+00]\n",
      " [0.00000000e+00 0.00000000e+00 0.00000000e+00 ... 0.00000000e+00\n",
      "  0.00000000e+00 0.00000000e+00]\n",
      " ...\n",
      " [0.00000000e+00 0.00000000e+00 0.00000000e+00 ... 0.00000000e+00\n",
      "  0.00000000e+00 0.00000000e+00]\n",
      " [0.00000000e+00 0.00000000e+00 0.00000000e+00 ... 0.00000000e+00\n",
      "  0.00000000e+00 0.00000000e+00]\n",
      " [0.00000000e+00 0.00000000e+00 0.00000000e+00 ... 0.00000000e+00\n",
      "  0.00000000e+00 0.00000000e+00]]\n",
      "(4800,)\n",
      "['3' '3' '3' ... 'A' 'A' 'A']\n"
     ]
    }
   ],
   "execution_count": 19
  },
  {
   "metadata": {
    "ExecuteTime": {
     "end_time": "2024-11-20T11:44:29.281451Z",
     "start_time": "2024-11-20T11:44:29.272415Z"
    }
   },
   "cell_type": "code",
   "source": [
    "y_2C_num = (y_2C == 'A').astype(int)\n",
    "y_2C_num"
   ],
   "outputs": [
    {
     "data": {
      "text/plain": [
       "array([0, 0, 0, ..., 1, 1, 1])"
      ]
     },
     "execution_count": 20,
     "metadata": {},
     "output_type": "execute_result"
    }
   ],
   "execution_count": 20
  },
  {
   "metadata": {
    "ExecuteTime": {
     "end_time": "2024-11-20T11:44:34.684906Z",
     "start_time": "2024-11-20T11:44:34.676126Z"
    }
   },
   "cell_type": "code",
   "source": [
    "from sklearn.model_selection import train_test_split\n",
    "X2C_train, X2C_test, y2C_train, y2C_test = train_test_split(X_2C, y_2C_num, stratify=y_2C_num, train_size = 0.7 )"
   ],
   "outputs": [],
   "execution_count": 21
  },
  {
   "cell_type": "markdown",
   "metadata": {},
   "source": [
    "# `TAREA 3`\n",
    "\n",
    "Incluye las funciones `entrena_perceptron`, `predice` y `evalua` en el archivo donde vayas a organizar las funciones implementadas y comprueba su funcionamiento con los datos de entrenamiento y test "
   ]
  },
  {
   "metadata": {
    "ExecuteTime": {
     "end_time": "2024-11-20T13:07:14.874731Z",
     "start_time": "2024-11-20T13:07:13.673448Z"
    }
   },
   "cell_type": "code",
   "source": [
    "from Tarea_3 import entrena_perceptron,evalua, predice, funcion_escalon #Tendras que ajustar esta importación de acuerdo a tu archivo de funciones.\n",
    "z = 0.0     # umbral\n",
    "eta = 0.1   # learning rate\n",
    "t = 50      # número de iteraciones\n",
    "\n",
    "weights, errors = entrena_perceptron(X2C_train, y2C_train, z, eta, t,funcion_escalon)\n",
    "y_pred_2C_own=predice(weights,X2C_test,z,funcion_escalon)\n",
    "porcentaje_acierto_perceptron_own=evalua(y2C_test, y_pred_2C_own)\n",
    "print(porcentaje_acierto_perceptron_own)\n",
    "\n"
   ],
   "outputs": [
    {
     "name": "stdout",
     "output_type": "stream",
     "text": [
      "0.9944444444444445\n"
     ]
    }
   ],
   "execution_count": 22
  },
  {
   "metadata": {
    "ExecuteTime": {
     "end_time": "2024-11-20T13:10:38.335971Z",
     "start_time": "2024-11-20T13:10:38.076856Z"
    }
   },
   "cell_type": "code",
   "source": [
    "from sklearn.linear_model import Perceptron\n",
    "from Tarea_3 import evalua #Tendras que ajustar esta importación de acuerdo a tu archivo de funciones.\n",
    "\n",
    "clf = Perceptron(random_state=None, eta0= 0.1, shuffle=True, fit_intercept=True)\n",
    "clf.fit(X2C_train, y2C_train)\n",
    "y_pred_2C_sk = clf.predict(X2C_test)\n",
    "\n",
    "porcentaje_acierto_perceptron_sk=evalua(y2C_test, y_pred_2C_sk)\n",
    "print(porcentaje_acierto_perceptron_sk)\n"
   ],
   "outputs": [
    {
     "name": "stdout",
     "output_type": "stream",
     "text": [
      "0.9930555555555556\n"
     ]
    }
   ],
   "execution_count": 23
  },
  {
   "cell_type": "markdown",
   "metadata": {},
   "source": [
    "## Punto 4. Elementos para la valoración de la predicción.\n",
    "\n",
    "### Matriz de confusión\n",
    "\n",
    "En este punto vamos a introducir una forma de presentar los resultados obtenidos en la clasificación de clases a partir de la matriz de confusión.\n",
    "\n",
    "<div class=\"alert alert-info\"> <b>from</b> sklearn <b>import</b> metrics<br>\n",
    "    <b>help </b>(metrics.confusion_matrix)<br>\n",
    "    <b>help </b>(metrics.ConfusionMatrixDisplay)<br></div>\n",
    "    \n",
    "\n",
    "    \n",
    "Los valores de la diagonal principal se corresponden con los valores estimados de forma correcta por el modelo. El resto de datos representan los casos en los que el modelo *«se ha equivocado»*.\n",
    "\n",
    "<img style=\"float:center\" width=\"60%\" src=\"pics/matrix_confusion_n2.jpg\">"
   ]
  },
  {
   "cell_type": "markdown",
   "metadata": {},
   "source": [
    "Supongamos que estamos intentando clasificar ```A``` y tenemos un conjunto de datos con ```A```y ```3```.\n",
    "\n",
    "En la matriz de confusión, los valores de la diagonal principal se corresponden con los valores estimados de forma correcta por el modelo (los que clasifica como ```A``` y ```3```), tanto los verdaderos positivos *True Positive(TP)* (en este caso los que clasifica como ```A``` y que son realmente ```A```) como los verdaderos negativos *True Negative(TN)* (los que clasifica como ```3``` y por tanto no son ```A```).\n",
    "\n",
    "<img style=\"float:center\" width=\"60%\" src=\"pics/matrizconfusionMetricas.png\">\n",
    "\n",
    "La otra diagonal, representa los casos en los que el modelo «se ha equivocado»:\n",
    "- Falsos negativos (FN). Si estamos evaluando la clase ```A```, casos que siendo ```A``` lo considera ```3```.\n",
    "- Falsos positivos (FP). Si estamos evaluando la clase ```A```, casos que siendo ```3``` lo considera ```A```. \n",
    "\n",
    "\n",
    "**IMPORTANTE**: Para cada una de las clases tendremos unos valores u otros dependiendo de cual estemos evaluando, simplemente cambiando el orden de la matriz de confusión.\n"
   ]
  },
  {
   "cell_type": "code",
   "metadata": {
    "ExecuteTime": {
     "end_time": "2024-11-20T13:11:15.330321Z",
     "start_time": "2024-11-20T13:11:15.028421Z"
    }
   },
   "source": [
    "import matplotlib.pyplot as plt\n",
    "from sklearn import metrics\n",
    "import numpy as np \n",
    "\n",
    "labels=np.unique(y2C_test)\n",
    "\n",
    "conf_mat = metrics.confusion_matrix(y2C_test, y_pred_2C_own,labels=labels)\n",
    "cm_display = metrics.ConfusionMatrixDisplay(confusion_matrix = conf_mat, display_labels = [\"3\" , \"A\"])\n",
    "fig, ax = plt.subplots(figsize=(10,10))\n",
    "cm_display.plot(ax=ax)\n",
    "plt.title(\"Matriz de confusión Perceptron propio (A-3)\")\n",
    "plt.show()\n"
   ],
   "outputs": [
    {
     "data": {
      "text/plain": [
       "<Figure size 1000x1000 with 2 Axes>"
      ],
      "image/png": "[encoded data removed]"
     },
     "metadata": {},
     "output_type": "display_data"
    }
   ],
   "execution_count": 24
  },
  {
   "cell_type": "code",
   "metadata": {
    "ExecuteTime": {
     "end_time": "2024-11-20T13:12:22.439914Z",
     "start_time": "2024-11-20T13:12:22.221770Z"
    }
   },
   "source": [
    "import matplotlib.pyplot as plt\n",
    "from sklearn import metrics\n",
    "import numpy as np \n",
    "\n",
    "labels=np.unique(y2C_test)\n",
    "\n",
    "conf_mat = metrics.confusion_matrix(y2C_test, y_pred_2C_sk,labels=labels)\n",
    "cm_display = metrics.ConfusionMatrixDisplay(confusion_matrix = conf_mat, display_labels = [\"3\" , \"A\"])\n",
    "fig, ax = plt.subplots(figsize=(10,10))\n",
    "cm_display.plot(ax=ax)\n",
    "plt.title(\"Matriz de confusión Perceptron simple de Sklearn (A-3)\")\n",
    "plt.show()\n"
   ],
   "outputs": [
    {
     "data": {
      "text/plain": [
       "<Figure size 1000x1000 with 2 Axes>"
      ],
      "image/png": "[encoded data removed]"
     },
     "metadata": {},
     "output_type": "display_data"
    }
   ],
   "execution_count": 25
  },
  {
   "cell_type": "markdown",
   "metadata": {},
   "source": [
    "### Métricas: \n",
    "\n",
    "A partir de la matriz de confusión se pueden derivar varias métricas. Estas son las tres más importantes:\n",
    "\n",
    "- **Exactitud (accuracy)**: Porcentaje de predicciones correctas. Se corresponde con el valor obtenido de nuestra función `evalua`.\n",
    "- **Precisión (precision)**: Porcentaje de predicciones positivas correctas.\n",
    "- **Sensibilidad (recall)** representa la tasa de verdaderos positivos. Es la proporción entre los casos positivos bien clasificados por el modelo, respecto al total de positivos. \n",
    "\n",
    "<div class=\"alert alert-info\"> <b>from</b> sklearn <b>import</b> metrics<br>\n",
    "    <b>    help </b>(metrics.accuracy_score)<br>\n",
    "    <b>    help </b>(metrics.precision_score)<br>\n",
    "    <b>    help </b>(metrics.recall_score)<br>\n",
    "</div>\n"
   ]
  },
  {
   "cell_type": "code",
   "metadata": {
    "ExecuteTime": {
     "end_time": "2024-11-20T13:12:38.170695Z",
     "start_time": "2024-11-20T13:12:38.149605Z"
    }
   },
   "source": [
    "from sklearn import metrics\n",
    "\n",
    "accuracy=metrics.accuracy_score(y2C_test, y_pred_2C_own)\n",
    "print(\"Exactitud: \" + str(accuracy))\n",
    "\n",
    "precision =metrics.precision_score(y2C_test, y_pred_2C_own,average=None) \n",
    "#Incluimos el parametro average=None para que calcule la métrica de precisión en las dos clases\n",
    "print(\"Precisión: \" + str(precision))\n",
    "\n",
    "sensibilidad =metrics.recall_score(y2C_test, y_pred_2C_own,average=None)\n",
    "print(\"Sensibilidad: \" + str(sensibilidad))"
   ],
   "outputs": [
    {
     "name": "stdout",
     "output_type": "stream",
     "text": [
      "Exactitud: 0.9944444444444445\n",
      "Precisión: [0.99444444 0.99444444]\n",
      "Sensibilidad: [0.99444444 0.99444444]\n"
     ]
    }
   ],
   "execution_count": 26
  },
  {
   "cell_type": "code",
   "metadata": {
    "ExecuteTime": {
     "end_time": "2024-11-20T13:12:40.130794Z",
     "start_time": "2024-11-20T13:12:40.112475Z"
    }
   },
   "source": [
    "from sklearn import metrics\n",
    "\n",
    "accuracy=metrics.accuracy_score(y2C_test, y_pred_2C_sk)\n",
    "print(\"Exactitud: \" + str(accuracy))\n",
    "\n",
    "precision =metrics.precision_score(y2C_test, y_pred_2C_sk,average=None) \n",
    "#Incluimos el parametro average=None para que calcule la métrica de precisión en las dos clases\n",
    "print(\"Precisión: \" + str(precision))\n",
    "\n",
    "sensibilidad =metrics.recall_score(y2C_test, y_pred_2C_sk,average=None)\n",
    "print(\"Sensibilidad: \" + str(sensibilidad))\n"
   ],
   "outputs": [
    {
     "name": "stdout",
     "output_type": "stream",
     "text": [
      "Exactitud: 0.9930555555555556\n",
      "Precisión: [0.99442897 0.99168975]\n",
      "Sensibilidad: [0.99166667 0.99444444]\n"
     ]
    }
   ],
   "execution_count": 27
  },
  {
   "metadata": {
    "ExecuteTime": {
     "end_time": "2024-11-20T13:15:40.903856Z",
     "start_time": "2024-11-20T13:15:32.700247Z"
    }
   },
   "cell_type": "code",
   "source": [
    "from Tarea_3 import entrena_perceptron,evalua #Tendras que ajustar esta importación de acuerdo a tu archivo de funciones.\n",
    "from sklearn.linear_model import Perceptron\n",
    "\n",
    "z = 0.0     # umbral\n",
    "eta = 0.1   # learning rate\n",
    "t = 50      # número de iteraciones\n",
    "\n",
    "for i in range(10):\n",
    "    weights, errors = entrena_perceptron(X2C_train, y2C_train, z, eta, t,funcion_escalon)\n",
    "    y_pred_2C_own=predice(weights,X2C_test,z,funcion_escalon)\n",
    "    clf = Perceptron(random_state=None, eta0= 0.1, shuffle=True, fit_intercept=True)\n",
    "    clf.fit(X2C_train, y2C_train)\n",
    "    y_pred_2C_sk = clf.predict(X2C_test)\n",
    "\n",
    "    print(\"----------Round \" + str(i) + \"------------------\")\n",
    "    accuracy=metrics.accuracy_score(y2C_test, y_pred_2C_own)\n",
    "    print(\"Exactitud_own: \" + str(accuracy))\n",
    "    \n",
    "    precision =metrics.precision_score(y2C_test, y_pred_2C_own,average=None) \n",
    "    #Incluimos el parametro average=None para que calcule la métrica de precisión en las dos clases\n",
    "    print(\"Precisión_own: \" + str(precision))\n",
    "    \n",
    "    sensibilidad =metrics.recall_score(y2C_test, y_pred_2C_own,average=None)\n",
    "    print(\"Sensibilidad_own: \" + str(sensibilidad))\n",
    "\n",
    "    accuracy=metrics.accuracy_score(y2C_test, y_pred_2C_sk)\n",
    "    print(\"Exactitud_sk: \" + str(accuracy))\n",
    "\n",
    "    precision =metrics.precision_score(y2C_test, y_pred_2C_sk,average=None) \n",
    "    print(\"Precisión_sk: \" + str(precision))\n",
    "\n",
    "    sensibilidad =metrics.recall_score(y2C_test, y_pred_2C_sk,average=None)\n",
    "    print(\"Sensibilidad_sk: \" + str(sensibilidad))\n"
   ],
   "outputs": [
    {
     "name": "stdout",
     "output_type": "stream",
     "text": [
      "----------Round 0------------------\n",
      "Exactitud_own: 0.9944444444444445\n",
      "Precisión_own: [0.99444444 0.99444444]\n",
      "Sensibilidad_own: [0.99444444 0.99444444]\n",
      "Exactitud_sk: 0.9930555555555556\n",
      "Precisión_sk: [0.99581006 0.99033149]\n",
      "Sensibilidad_sk: [0.99027778 0.99583333]\n",
      "----------Round 1------------------\n",
      "Exactitud_own: 0.9944444444444445\n",
      "Precisión_own: [0.99444444 0.99444444]\n",
      "Sensibilidad_own: [0.99444444 0.99444444]\n",
      "Exactitud_sk: 0.9930555555555556\n",
      "Precisión_sk: [0.99033149 0.99581006]\n",
      "Sensibilidad_sk: [0.99583333 0.99027778]\n",
      "----------Round 2------------------\n",
      "Exactitud_own: 0.9944444444444445\n",
      "Precisión_own: [0.99444444 0.99444444]\n",
      "Sensibilidad_own: [0.99444444 0.99444444]\n",
      "Exactitud_sk: 0.9916666666666667\n",
      "Precisión_sk: [0.99166667 0.99166667]\n",
      "Sensibilidad_sk: [0.99166667 0.99166667]\n",
      "----------Round 3------------------\n",
      "Exactitud_own: 0.9944444444444445\n",
      "Precisión_own: [0.99444444 0.99444444]\n",
      "Sensibilidad_own: [0.99444444 0.99444444]\n",
      "Exactitud_sk: 0.9923611111111111\n",
      "Precisión_sk: [0.9944212  0.99031812]\n",
      "Sensibilidad_sk: [0.99027778 0.99444444]\n",
      "----------Round 4------------------\n",
      "Exactitud_own: 0.9944444444444445\n",
      "Precisión_own: [0.99444444 0.99444444]\n",
      "Sensibilidad_own: [0.99444444 0.99444444]\n",
      "Exactitud_sk: 0.99375\n",
      "Precisión_sk: [0.99306519 0.99443672]\n",
      "Sensibilidad_sk: [0.99444444 0.99305556]\n",
      "----------Round 5------------------\n",
      "Exactitud_own: 0.9944444444444445\n",
      "Precisión_own: [0.99444444 0.99444444]\n",
      "Sensibilidad_own: [0.99444444 0.99444444]\n",
      "Exactitud_sk: 0.9930555555555556\n",
      "Precisión_sk: [0.99719888 0.98898072]\n",
      "Sensibilidad_sk: [0.98888889 0.99722222]\n",
      "----------Round 6------------------\n",
      "Exactitud_own: 0.9944444444444445\n",
      "Precisión_own: [0.99444444 0.99444444]\n",
      "Sensibilidad_own: [0.99444444 0.99444444]\n",
      "Exactitud_sk: 0.9930555555555556\n",
      "Precisión_sk: [0.99442897 0.99168975]\n",
      "Sensibilidad_sk: [0.99166667 0.99444444]\n",
      "----------Round 7------------------\n",
      "Exactitud_own: 0.9944444444444445\n",
      "Precisión_own: [0.99444444 0.99444444]\n",
      "Sensibilidad_own: [0.99444444 0.99444444]\n",
      "Exactitud_sk: 0.9923611111111111\n",
      "Precisión_sk: [0.98896552 0.9958042 ]\n",
      "Sensibilidad_sk: [0.99583333 0.98888889]\n",
      "----------Round 8------------------\n",
      "Exactitud_own: 0.9944444444444445\n",
      "Precisión_own: [0.99444444 0.99444444]\n",
      "Sensibilidad_own: [0.99444444 0.99444444]\n",
      "Exactitud_sk: 0.9930555555555556\n",
      "Precisión_sk: [0.99442897 0.99168975]\n",
      "Sensibilidad_sk: [0.99166667 0.99444444]\n",
      "----------Round 9------------------\n",
      "Exactitud_own: 0.9944444444444445\n",
      "Precisión_own: [0.99444444 0.99444444]\n",
      "Sensibilidad_own: [0.99444444 0.99444444]\n",
      "Exactitud_sk: 0.9930555555555556\n",
      "Precisión_sk: [0.99033149 0.99581006]\n",
      "Sensibilidad_sk: [0.99583333 0.99027778]\n"
     ]
    }
   ],
   "execution_count": 30
  },
  {
   "cell_type": "markdown",
   "metadata": {},
   "source": [
    "# `TAREA 5`\n",
    "\n",
    "- Se solicita analizar la matriz de confusión y sus correspondientes métricas para todos los diferentes pares de imágenes empleando el perceptrón de sklearn. Por ejemplo:\n",
    "    * 0 - 1\n",
    "    * 0 - 2\n",
    "    * 0 - 3\n",
    "    * ...\n",
    "    * A - 0\n",
    "    * A - 1\n",
    "    * ...\n",
    "\n",
    "**Importante**: Implementa las funciones necesarias para que se automatice el proceso.\n"
   ]
  },
  {
   "metadata": {
    "ExecuteTime": {
     "end_time": "2024-11-20T21:52:16.860098900Z",
     "start_time": "2024-11-20T21:52:13.577362Z"
    }
   },
   "cell_type": "code",
   "source": [
    "from sklearn.linear_model import Perceptron\n",
    "def analisis_binario(Ximage,yimage, caracteres, X2C_test, y2C_test):\n",
    "    for caracter_1 in caracteres.values():\n",
    "        for caracter_2 in caracteres.values():\n",
    "            if caracter_1 == caracter_2:\n",
    "                continue\n",
    "            X_binario = Ximage[((yimage == caracter_1)| (yimage == caracter_2))]\n",
    "            y_binario = yimage[((yimage == caracter_1) | (yimage == caracter_2))]\n",
    "            y_binario_num = (y_binario == caracter_1).astype(int)   \n",
    "            clf = Perceptron(random_state=None, eta0= 0.1, shuffle=True, fit_intercept=True)\n",
    "            clf.fit(X_binario, y_binario_num)\n",
    "            y_pred_binario = clf.predict(X2C_test)\n",
    "            print(metrics.confusion_matrix(y2C_test, y_pred_binario))\n",
    "analisis_binario(Ximage,yimage,caracteres, X2C_test, y2C_test)"
   ],
   "outputs": [
    {
     "name": "stdout",
     "output_type": "stream",
     "text": [
      "[[431 289]\n",
      " [208 512]]\n",
      "[[361 359]\n",
      " [395 325]]\n",
      "[[715   5]\n",
      " [151 569]]\n",
      "[[206 514]\n",
      " [581 139]]\n",
      "[[594 126]\n",
      " [193 527]]\n",
      "[[ 73 647]\n",
      " [242 478]]\n",
      "[[493 227]\n",
      " [208 512]]\n",
      "[[587 133]\n",
      " [351 369]]\n",
      "[[358 362]\n",
      " [335 385]]\n",
      "[[430 290]\n",
      " [717   3]]\n",
      "[[697  23]\n",
      " [670  50]]\n",
      "[[ 64 656]\n",
      " [195 525]]\n",
      "[[195 525]\n",
      " [560 160]]\n",
      "[[117 603]\n",
      " [390 330]]\n",
      "[[333 387]\n",
      " [687  33]]\n",
      "[[268 452]\n",
      " [414 306]]\n",
      "[[219 501]\n",
      " [667  53]]\n",
      "[[430 290]\n",
      " [404 316]]\n",
      "[[509 211]\n",
      " [150 570]]\n",
      "[[ 90 630]\n",
      " [423 297]]\n",
      "[[140 580]\n",
      " [200 520]]\n",
      "[[ 42 678]\n",
      " [479 241]]\n",
      "[[154 566]\n",
      " [680  40]]\n",
      "[[188 532]\n",
      " [273 447]]\n",
      "[[ 41 679]\n",
      " [302 418]]\n",
      "[[223 497]\n",
      " [429 291]]\n",
      "[[134 586]\n",
      " [628  92]]\n",
      "[[692  28]\n",
      " [354 366]]\n",
      "[[335 385]\n",
      " [174 546]]\n",
      "[[ 94 626]\n",
      " [471 249]]\n",
      "[[ 41 679]\n",
      " [238 482]]\n",
      "[[ 82 638]\n",
      " [542 178]]\n",
      "[[353 367]\n",
      " [463 257]]\n",
      "[[440 280]\n",
      " [301 419]]\n",
      "[[523 197]\n",
      " [572 148]]\n",
      "[[507 213]\n",
      " [664  56]]\n",
      "[[507 213]\n",
      " [407 313]]\n",
      "[[498 222]\n",
      " [525 195]]\n",
      "[[110 610]\n",
      " [340 380]]\n",
      "[[229 491]\n",
      " [551 169]]\n",
      "[[690  30]\n",
      " [660  60]]\n",
      "[[252 468]\n",
      " [517 203]]\n",
      "[[177 543]\n",
      " [674  46]]\n",
      "[[292 428]\n",
      " [502 218]]\n",
      "[[ 97 623]\n",
      " [525 195]]\n",
      "[[203 517]\n",
      " [464 256]]\n",
      "[[437 283]\n",
      " [571 149]]\n",
      "[[437 283]\n",
      " [460 260]]\n",
      "[[720   0]\n",
      " [600 120]]\n",
      "[[242 478]\n",
      " [680  40]]\n",
      "[[669  51]\n",
      " [490 230]]\n",
      "[[174 546]\n",
      " [454 266]]\n",
      "[[245 475]\n",
      " [355 365]]\n",
      "[[696  24]\n",
      " [629  91]]\n",
      "[[449 271]\n",
      " [497 223]]\n",
      "[[151 569]\n",
      " [719   1]]\n",
      "[[704  16]\n",
      " [578 142]]\n",
      "[[231 489]\n",
      " [472 248]]\n",
      "[[594 126]\n",
      " [633  87]]\n",
      "[[635  85]\n",
      " [672  48]]\n",
      "[[389 331]\n",
      " [668  52]]\n",
      "[[318 402]\n",
      " [597 123]]\n",
      "[[ 70 650]\n",
      " [683  37]]\n",
      "[[379 341]\n",
      " [614 106]]\n",
      "[[576 144]\n",
      " [508 212]]\n",
      "[[ 85 635]\n",
      " [694  26]]\n",
      "[[478 242]\n",
      " [608 112]]\n",
      "[[ 93 627]\n",
      " [512 208]]\n",
      "[[ 80 640]\n",
      " [635  85]]\n",
      "[[392 328]\n",
      " [605 115]]\n",
      "[[421 299]\n",
      " [597 123]]\n",
      "[[ 29 691]\n",
      " [501 219]]\n",
      "[[377 343]\n",
      " [620 100]]\n",
      "[[441 279]\n",
      " [448 272]]\n",
      "[[383 337]\n",
      " [366 354]]\n",
      "[[ 48 672]\n",
      " [594 126]]\n",
      "[[ 34 686]\n",
      " [606 114]]\n",
      "[[141 579]\n",
      " [666  54]]\n",
      "[[239 481]\n",
      " [660  60]]\n",
      "[[630  90]\n",
      " [654  66]]\n",
      "[[669  51]\n",
      " [568 152]]\n",
      "[[270 450]\n",
      " [607 113]]\n"
     ]
    },
    {
     "ename": "KeyboardInterrupt",
     "evalue": "",
     "output_type": "error",
     "traceback": [
      "\u001B[1;31m---------------------------------------------------------------------------\u001B[0m",
      "\u001B[1;31mKeyboardInterrupt\u001B[0m                         Traceback (most recent call last)",
      "Cell \u001B[1;32mIn[51], line 14\u001B[0m\n\u001B[0;32m     12\u001B[0m             y_pred_binario \u001B[38;5;241m=\u001B[39m clf\u001B[38;5;241m.\u001B[39mpredict(X2C_test)\n\u001B[0;32m     13\u001B[0m             \u001B[38;5;28mprint\u001B[39m(metrics\u001B[38;5;241m.\u001B[39mconfusion_matrix(y2C_test, y_pred_binario))\n\u001B[1;32m---> 14\u001B[0m \u001B[43manalisis_binario\u001B[49m\u001B[43m(\u001B[49m\u001B[43mXimage\u001B[49m\u001B[43m,\u001B[49m\u001B[43myimage\u001B[49m\u001B[43m,\u001B[49m\u001B[43mcaracteres\u001B[49m\u001B[43m,\u001B[49m\u001B[43m \u001B[49m\u001B[43mX2C_test\u001B[49m\u001B[43m,\u001B[49m\u001B[43m \u001B[49m\u001B[43my2C_test\u001B[49m\u001B[43m)\u001B[49m\n",
      "Cell \u001B[1;32mIn[51], line 11\u001B[0m, in \u001B[0;36manalisis_binario\u001B[1;34m(Ximage, yimage, caracteres, X2C_test, y2C_test)\u001B[0m\n\u001B[0;32m      9\u001B[0m y_binario_num \u001B[38;5;241m=\u001B[39m (y_binario \u001B[38;5;241m==\u001B[39m caracter_1)\u001B[38;5;241m.\u001B[39mastype(\u001B[38;5;28mint\u001B[39m)   \n\u001B[0;32m     10\u001B[0m clf \u001B[38;5;241m=\u001B[39m Perceptron(random_state\u001B[38;5;241m=\u001B[39m\u001B[38;5;28;01mNone\u001B[39;00m, eta0\u001B[38;5;241m=\u001B[39m \u001B[38;5;241m0.1\u001B[39m, shuffle\u001B[38;5;241m=\u001B[39m\u001B[38;5;28;01mTrue\u001B[39;00m, fit_intercept\u001B[38;5;241m=\u001B[39m\u001B[38;5;28;01mTrue\u001B[39;00m)\n\u001B[1;32m---> 11\u001B[0m \u001B[43mclf\u001B[49m\u001B[38;5;241;43m.\u001B[39;49m\u001B[43mfit\u001B[49m\u001B[43m(\u001B[49m\u001B[43mX_binario\u001B[49m\u001B[43m,\u001B[49m\u001B[43m \u001B[49m\u001B[43my_binario_num\u001B[49m\u001B[43m)\u001B[49m\n\u001B[0;32m     12\u001B[0m y_pred_binario \u001B[38;5;241m=\u001B[39m clf\u001B[38;5;241m.\u001B[39mpredict(X2C_test)\n\u001B[0;32m     13\u001B[0m \u001B[38;5;28mprint\u001B[39m(metrics\u001B[38;5;241m.\u001B[39mconfusion_matrix(y2C_test, y_pred_binario))\n",
      "File \u001B[1;32m~\\PycharmProjects\\Sistemas-inteligentes\\venvSistemasInteligenes\\Lib\\site-packages\\sklearn\\base.py:1473\u001B[0m, in \u001B[0;36m_fit_context.<locals>.decorator.<locals>.wrapper\u001B[1;34m(estimator, *args, **kwargs)\u001B[0m\n\u001B[0;32m   1466\u001B[0m     estimator\u001B[38;5;241m.\u001B[39m_validate_params()\n\u001B[0;32m   1468\u001B[0m \u001B[38;5;28;01mwith\u001B[39;00m config_context(\n\u001B[0;32m   1469\u001B[0m     skip_parameter_validation\u001B[38;5;241m=\u001B[39m(\n\u001B[0;32m   1470\u001B[0m         prefer_skip_nested_validation \u001B[38;5;129;01mor\u001B[39;00m global_skip_validation\n\u001B[0;32m   1471\u001B[0m     )\n\u001B[0;32m   1472\u001B[0m ):\n\u001B[1;32m-> 1473\u001B[0m     \u001B[38;5;28;01mreturn\u001B[39;00m \u001B[43mfit_method\u001B[49m\u001B[43m(\u001B[49m\u001B[43mestimator\u001B[49m\u001B[43m,\u001B[49m\u001B[43m \u001B[49m\u001B[38;5;241;43m*\u001B[39;49m\u001B[43margs\u001B[49m\u001B[43m,\u001B[49m\u001B[43m \u001B[49m\u001B[38;5;241;43m*\u001B[39;49m\u001B[38;5;241;43m*\u001B[39;49m\u001B[43mkwargs\u001B[49m\u001B[43m)\u001B[49m\n",
      "File \u001B[1;32m~\\PycharmProjects\\Sistemas-inteligentes\\venvSistemasInteligenes\\Lib\\site-packages\\sklearn\\linear_model\\_stochastic_gradient.py:938\u001B[0m, in \u001B[0;36mBaseSGDClassifier.fit\u001B[1;34m(self, X, y, coef_init, intercept_init, sample_weight)\u001B[0m\n\u001B[0;32m    909\u001B[0m \u001B[38;5;250m\u001B[39m\u001B[38;5;124;03m\"\"\"Fit linear model with Stochastic Gradient Descent.\u001B[39;00m\n\u001B[0;32m    910\u001B[0m \n\u001B[0;32m    911\u001B[0m \u001B[38;5;124;03mParameters\u001B[39;00m\n\u001B[1;32m   (...)\u001B[0m\n\u001B[0;32m    934\u001B[0m \u001B[38;5;124;03m    Returns an instance of self.\u001B[39;00m\n\u001B[0;32m    935\u001B[0m \u001B[38;5;124;03m\"\"\"\u001B[39;00m\n\u001B[0;32m    936\u001B[0m \u001B[38;5;28mself\u001B[39m\u001B[38;5;241m.\u001B[39m_more_validate_params()\n\u001B[1;32m--> 938\u001B[0m \u001B[38;5;28;01mreturn\u001B[39;00m \u001B[38;5;28;43mself\u001B[39;49m\u001B[38;5;241;43m.\u001B[39;49m\u001B[43m_fit\u001B[49m\u001B[43m(\u001B[49m\n\u001B[0;32m    939\u001B[0m \u001B[43m    \u001B[49m\u001B[43mX\u001B[49m\u001B[43m,\u001B[49m\n\u001B[0;32m    940\u001B[0m \u001B[43m    \u001B[49m\u001B[43my\u001B[49m\u001B[43m,\u001B[49m\n\u001B[0;32m    941\u001B[0m \u001B[43m    \u001B[49m\u001B[43malpha\u001B[49m\u001B[38;5;241;43m=\u001B[39;49m\u001B[38;5;28;43mself\u001B[39;49m\u001B[38;5;241;43m.\u001B[39;49m\u001B[43malpha\u001B[49m\u001B[43m,\u001B[49m\n\u001B[0;32m    942\u001B[0m \u001B[43m    \u001B[49m\u001B[43mC\u001B[49m\u001B[38;5;241;43m=\u001B[39;49m\u001B[38;5;241;43m1.0\u001B[39;49m\u001B[43m,\u001B[49m\n\u001B[0;32m    943\u001B[0m \u001B[43m    \u001B[49m\u001B[43mloss\u001B[49m\u001B[38;5;241;43m=\u001B[39;49m\u001B[38;5;28;43mself\u001B[39;49m\u001B[38;5;241;43m.\u001B[39;49m\u001B[43mloss\u001B[49m\u001B[43m,\u001B[49m\n\u001B[0;32m    944\u001B[0m \u001B[43m    \u001B[49m\u001B[43mlearning_rate\u001B[49m\u001B[38;5;241;43m=\u001B[39;49m\u001B[38;5;28;43mself\u001B[39;49m\u001B[38;5;241;43m.\u001B[39;49m\u001B[43mlearning_rate\u001B[49m\u001B[43m,\u001B[49m\n\u001B[0;32m    945\u001B[0m \u001B[43m    \u001B[49m\u001B[43mcoef_init\u001B[49m\u001B[38;5;241;43m=\u001B[39;49m\u001B[43mcoef_init\u001B[49m\u001B[43m,\u001B[49m\n\u001B[0;32m    946\u001B[0m \u001B[43m    \u001B[49m\u001B[43mintercept_init\u001B[49m\u001B[38;5;241;43m=\u001B[39;49m\u001B[43mintercept_init\u001B[49m\u001B[43m,\u001B[49m\n\u001B[0;32m    947\u001B[0m \u001B[43m    \u001B[49m\u001B[43msample_weight\u001B[49m\u001B[38;5;241;43m=\u001B[39;49m\u001B[43msample_weight\u001B[49m\u001B[43m,\u001B[49m\n\u001B[0;32m    948\u001B[0m \u001B[43m\u001B[49m\u001B[43m)\u001B[49m\n",
      "File \u001B[1;32m~\\PycharmProjects\\Sistemas-inteligentes\\venvSistemasInteligenes\\Lib\\site-packages\\sklearn\\linear_model\\_stochastic_gradient.py:725\u001B[0m, in \u001B[0;36mBaseSGDClassifier._fit\u001B[1;34m(self, X, y, alpha, C, loss, learning_rate, coef_init, intercept_init, sample_weight)\u001B[0m\n\u001B[0;32m    722\u001B[0m \u001B[38;5;66;03m# Clear iteration count for multiple call to fit.\u001B[39;00m\n\u001B[0;32m    723\u001B[0m \u001B[38;5;28mself\u001B[39m\u001B[38;5;241m.\u001B[39mt_ \u001B[38;5;241m=\u001B[39m \u001B[38;5;241m1.0\u001B[39m\n\u001B[1;32m--> 725\u001B[0m \u001B[38;5;28;43mself\u001B[39;49m\u001B[38;5;241;43m.\u001B[39;49m\u001B[43m_partial_fit\u001B[49m\u001B[43m(\u001B[49m\n\u001B[0;32m    726\u001B[0m \u001B[43m    \u001B[49m\u001B[43mX\u001B[49m\u001B[43m,\u001B[49m\n\u001B[0;32m    727\u001B[0m \u001B[43m    \u001B[49m\u001B[43my\u001B[49m\u001B[43m,\u001B[49m\n\u001B[0;32m    728\u001B[0m \u001B[43m    \u001B[49m\u001B[43malpha\u001B[49m\u001B[43m,\u001B[49m\n\u001B[0;32m    729\u001B[0m \u001B[43m    \u001B[49m\u001B[43mC\u001B[49m\u001B[43m,\u001B[49m\n\u001B[0;32m    730\u001B[0m \u001B[43m    \u001B[49m\u001B[43mloss\u001B[49m\u001B[43m,\u001B[49m\n\u001B[0;32m    731\u001B[0m \u001B[43m    \u001B[49m\u001B[43mlearning_rate\u001B[49m\u001B[43m,\u001B[49m\n\u001B[0;32m    732\u001B[0m \u001B[43m    \u001B[49m\u001B[38;5;28;43mself\u001B[39;49m\u001B[38;5;241;43m.\u001B[39;49m\u001B[43mmax_iter\u001B[49m\u001B[43m,\u001B[49m\n\u001B[0;32m    733\u001B[0m \u001B[43m    \u001B[49m\u001B[43mclasses\u001B[49m\u001B[43m,\u001B[49m\n\u001B[0;32m    734\u001B[0m \u001B[43m    \u001B[49m\u001B[43msample_weight\u001B[49m\u001B[43m,\u001B[49m\n\u001B[0;32m    735\u001B[0m \u001B[43m    \u001B[49m\u001B[43mcoef_init\u001B[49m\u001B[43m,\u001B[49m\n\u001B[0;32m    736\u001B[0m \u001B[43m    \u001B[49m\u001B[43mintercept_init\u001B[49m\u001B[43m,\u001B[49m\n\u001B[0;32m    737\u001B[0m \u001B[43m\u001B[49m\u001B[43m)\u001B[49m\n\u001B[0;32m    739\u001B[0m \u001B[38;5;28;01mif\u001B[39;00m (\n\u001B[0;32m    740\u001B[0m     \u001B[38;5;28mself\u001B[39m\u001B[38;5;241m.\u001B[39mtol \u001B[38;5;129;01mis\u001B[39;00m \u001B[38;5;129;01mnot\u001B[39;00m \u001B[38;5;28;01mNone\u001B[39;00m\n\u001B[0;32m    741\u001B[0m     \u001B[38;5;129;01mand\u001B[39;00m \u001B[38;5;28mself\u001B[39m\u001B[38;5;241m.\u001B[39mtol \u001B[38;5;241m>\u001B[39m \u001B[38;5;241m-\u001B[39mnp\u001B[38;5;241m.\u001B[39minf\n\u001B[0;32m    742\u001B[0m     \u001B[38;5;129;01mand\u001B[39;00m \u001B[38;5;28mself\u001B[39m\u001B[38;5;241m.\u001B[39mn_iter_ \u001B[38;5;241m==\u001B[39m \u001B[38;5;28mself\u001B[39m\u001B[38;5;241m.\u001B[39mmax_iter\n\u001B[0;32m    743\u001B[0m ):\n\u001B[0;32m    744\u001B[0m     warnings\u001B[38;5;241m.\u001B[39mwarn(\n\u001B[0;32m    745\u001B[0m         (\n\u001B[0;32m    746\u001B[0m             \u001B[38;5;124m\"\u001B[39m\u001B[38;5;124mMaximum number of iteration reached before \u001B[39m\u001B[38;5;124m\"\u001B[39m\n\u001B[1;32m   (...)\u001B[0m\n\u001B[0;32m    750\u001B[0m         ConvergenceWarning,\n\u001B[0;32m    751\u001B[0m     )\n",
      "File \u001B[1;32m~\\PycharmProjects\\Sistemas-inteligentes\\venvSistemasInteligenes\\Lib\\site-packages\\sklearn\\linear_model\\_stochastic_gradient.py:659\u001B[0m, in \u001B[0;36mBaseSGDClassifier._partial_fit\u001B[1;34m(self, X, y, alpha, C, loss, learning_rate, max_iter, classes, sample_weight, coef_init, intercept_init)\u001B[0m\n\u001B[0;32m    649\u001B[0m     \u001B[38;5;28mself\u001B[39m\u001B[38;5;241m.\u001B[39m_fit_multiclass(\n\u001B[0;32m    650\u001B[0m         X,\n\u001B[0;32m    651\u001B[0m         y,\n\u001B[1;32m   (...)\u001B[0m\n\u001B[0;32m    656\u001B[0m         max_iter\u001B[38;5;241m=\u001B[39mmax_iter,\n\u001B[0;32m    657\u001B[0m     )\n\u001B[0;32m    658\u001B[0m \u001B[38;5;28;01melif\u001B[39;00m n_classes \u001B[38;5;241m==\u001B[39m \u001B[38;5;241m2\u001B[39m:\n\u001B[1;32m--> 659\u001B[0m     \u001B[38;5;28;43mself\u001B[39;49m\u001B[38;5;241;43m.\u001B[39;49m\u001B[43m_fit_binary\u001B[49m\u001B[43m(\u001B[49m\n\u001B[0;32m    660\u001B[0m \u001B[43m        \u001B[49m\u001B[43mX\u001B[49m\u001B[43m,\u001B[49m\n\u001B[0;32m    661\u001B[0m \u001B[43m        \u001B[49m\u001B[43my\u001B[49m\u001B[43m,\u001B[49m\n\u001B[0;32m    662\u001B[0m \u001B[43m        \u001B[49m\u001B[43malpha\u001B[49m\u001B[38;5;241;43m=\u001B[39;49m\u001B[43malpha\u001B[49m\u001B[43m,\u001B[49m\n\u001B[0;32m    663\u001B[0m \u001B[43m        \u001B[49m\u001B[43mC\u001B[49m\u001B[38;5;241;43m=\u001B[39;49m\u001B[43mC\u001B[49m\u001B[43m,\u001B[49m\n\u001B[0;32m    664\u001B[0m \u001B[43m        \u001B[49m\u001B[43mlearning_rate\u001B[49m\u001B[38;5;241;43m=\u001B[39;49m\u001B[43mlearning_rate\u001B[49m\u001B[43m,\u001B[49m\n\u001B[0;32m    665\u001B[0m \u001B[43m        \u001B[49m\u001B[43msample_weight\u001B[49m\u001B[38;5;241;43m=\u001B[39;49m\u001B[43msample_weight\u001B[49m\u001B[43m,\u001B[49m\n\u001B[0;32m    666\u001B[0m \u001B[43m        \u001B[49m\u001B[43mmax_iter\u001B[49m\u001B[38;5;241;43m=\u001B[39;49m\u001B[43mmax_iter\u001B[49m\u001B[43m,\u001B[49m\n\u001B[0;32m    667\u001B[0m \u001B[43m    \u001B[49m\u001B[43m)\u001B[49m\n\u001B[0;32m    668\u001B[0m \u001B[38;5;28;01melse\u001B[39;00m:\n\u001B[0;32m    669\u001B[0m     \u001B[38;5;28;01mraise\u001B[39;00m \u001B[38;5;167;01mValueError\u001B[39;00m(\n\u001B[0;32m    670\u001B[0m         \u001B[38;5;124m\"\u001B[39m\u001B[38;5;124mThe number of classes has to be greater than one; got \u001B[39m\u001B[38;5;132;01m%d\u001B[39;00m\u001B[38;5;124m class\u001B[39m\u001B[38;5;124m\"\u001B[39m\n\u001B[0;32m    671\u001B[0m         \u001B[38;5;241m%\u001B[39m n_classes\n\u001B[0;32m    672\u001B[0m     )\n",
      "File \u001B[1;32m~\\PycharmProjects\\Sistemas-inteligentes\\venvSistemasInteligenes\\Lib\\site-packages\\sklearn\\linear_model\\_stochastic_gradient.py:756\u001B[0m, in \u001B[0;36mBaseSGDClassifier._fit_binary\u001B[1;34m(self, X, y, alpha, C, sample_weight, learning_rate, max_iter)\u001B[0m\n\u001B[0;32m    754\u001B[0m \u001B[38;5;28;01mdef\u001B[39;00m \u001B[38;5;21m_fit_binary\u001B[39m(\u001B[38;5;28mself\u001B[39m, X, y, alpha, C, sample_weight, learning_rate, max_iter):\n\u001B[0;32m    755\u001B[0m \u001B[38;5;250m    \u001B[39m\u001B[38;5;124;03m\"\"\"Fit a binary classifier on X and y.\"\"\"\u001B[39;00m\n\u001B[1;32m--> 756\u001B[0m     coef, intercept, n_iter_ \u001B[38;5;241m=\u001B[39m \u001B[43mfit_binary\u001B[49m\u001B[43m(\u001B[49m\n\u001B[0;32m    757\u001B[0m \u001B[43m        \u001B[49m\u001B[38;5;28;43mself\u001B[39;49m\u001B[43m,\u001B[49m\n\u001B[0;32m    758\u001B[0m \u001B[43m        \u001B[49m\u001B[38;5;241;43m1\u001B[39;49m\u001B[43m,\u001B[49m\n\u001B[0;32m    759\u001B[0m \u001B[43m        \u001B[49m\u001B[43mX\u001B[49m\u001B[43m,\u001B[49m\n\u001B[0;32m    760\u001B[0m \u001B[43m        \u001B[49m\u001B[43my\u001B[49m\u001B[43m,\u001B[49m\n\u001B[0;32m    761\u001B[0m \u001B[43m        \u001B[49m\u001B[43malpha\u001B[49m\u001B[43m,\u001B[49m\n\u001B[0;32m    762\u001B[0m \u001B[43m        \u001B[49m\u001B[43mC\u001B[49m\u001B[43m,\u001B[49m\n\u001B[0;32m    763\u001B[0m \u001B[43m        \u001B[49m\u001B[43mlearning_rate\u001B[49m\u001B[43m,\u001B[49m\n\u001B[0;32m    764\u001B[0m \u001B[43m        \u001B[49m\u001B[43mmax_iter\u001B[49m\u001B[43m,\u001B[49m\n\u001B[0;32m    765\u001B[0m \u001B[43m        \u001B[49m\u001B[38;5;28;43mself\u001B[39;49m\u001B[38;5;241;43m.\u001B[39;49m\u001B[43m_expanded_class_weight\u001B[49m\u001B[43m[\u001B[49m\u001B[38;5;241;43m1\u001B[39;49m\u001B[43m]\u001B[49m\u001B[43m,\u001B[49m\n\u001B[0;32m    766\u001B[0m \u001B[43m        \u001B[49m\u001B[38;5;28;43mself\u001B[39;49m\u001B[38;5;241;43m.\u001B[39;49m\u001B[43m_expanded_class_weight\u001B[49m\u001B[43m[\u001B[49m\u001B[38;5;241;43m0\u001B[39;49m\u001B[43m]\u001B[49m\u001B[43m,\u001B[49m\n\u001B[0;32m    767\u001B[0m \u001B[43m        \u001B[49m\u001B[43msample_weight\u001B[49m\u001B[43m,\u001B[49m\n\u001B[0;32m    768\u001B[0m \u001B[43m        \u001B[49m\u001B[43mrandom_state\u001B[49m\u001B[38;5;241;43m=\u001B[39;49m\u001B[38;5;28;43mself\u001B[39;49m\u001B[38;5;241;43m.\u001B[39;49m\u001B[43mrandom_state\u001B[49m\u001B[43m,\u001B[49m\n\u001B[0;32m    769\u001B[0m \u001B[43m    \u001B[49m\u001B[43m)\u001B[49m\n\u001B[0;32m    771\u001B[0m     \u001B[38;5;28mself\u001B[39m\u001B[38;5;241m.\u001B[39mt_ \u001B[38;5;241m+\u001B[39m\u001B[38;5;241m=\u001B[39m n_iter_ \u001B[38;5;241m*\u001B[39m X\u001B[38;5;241m.\u001B[39mshape[\u001B[38;5;241m0\u001B[39m]\n\u001B[0;32m    772\u001B[0m     \u001B[38;5;28mself\u001B[39m\u001B[38;5;241m.\u001B[39mn_iter_ \u001B[38;5;241m=\u001B[39m n_iter_\n",
      "File \u001B[1;32m~\\PycharmProjects\\Sistemas-inteligentes\\venvSistemasInteligenes\\Lib\\site-packages\\sklearn\\linear_model\\_stochastic_gradient.py:436\u001B[0m, in \u001B[0;36mfit_binary\u001B[1;34m(est, i, X, y, alpha, C, learning_rate, max_iter, pos_weight, neg_weight, sample_weight, validation_mask, random_state)\u001B[0m\n\u001B[0;32m    384\u001B[0m \u001B[38;5;250m\u001B[39m\u001B[38;5;124;03m\"\"\"Fit a single binary classifier.\u001B[39;00m\n\u001B[0;32m    385\u001B[0m \n\u001B[0;32m    386\u001B[0m \u001B[38;5;124;03mThe i'th class is considered the \"positive\" class.\u001B[39;00m\n\u001B[1;32m   (...)\u001B[0m\n\u001B[0;32m    432\u001B[0m \u001B[38;5;124;03m    by `np.random`.\u001B[39;00m\n\u001B[0;32m    433\u001B[0m \u001B[38;5;124;03m\"\"\"\u001B[39;00m\n\u001B[0;32m    434\u001B[0m \u001B[38;5;66;03m# if average is not true, average_coef, and average_intercept will be\u001B[39;00m\n\u001B[0;32m    435\u001B[0m \u001B[38;5;66;03m# unused\u001B[39;00m\n\u001B[1;32m--> 436\u001B[0m y_i, coef, intercept, average_coef, average_intercept \u001B[38;5;241m=\u001B[39m \u001B[43m_prepare_fit_binary\u001B[49m\u001B[43m(\u001B[49m\n\u001B[0;32m    437\u001B[0m \u001B[43m    \u001B[49m\u001B[43mest\u001B[49m\u001B[43m,\u001B[49m\u001B[43m \u001B[49m\u001B[43my\u001B[49m\u001B[43m,\u001B[49m\u001B[43m \u001B[49m\u001B[43mi\u001B[49m\u001B[43m,\u001B[49m\u001B[43m \u001B[49m\u001B[43minput_dtye\u001B[49m\u001B[38;5;241;43m=\u001B[39;49m\u001B[43mX\u001B[49m\u001B[38;5;241;43m.\u001B[39;49m\u001B[43mdtype\u001B[49m\n\u001B[0;32m    438\u001B[0m \u001B[43m\u001B[49m\u001B[43m)\u001B[49m\n\u001B[0;32m    439\u001B[0m \u001B[38;5;28;01massert\u001B[39;00m y_i\u001B[38;5;241m.\u001B[39mshape[\u001B[38;5;241m0\u001B[39m] \u001B[38;5;241m==\u001B[39m y\u001B[38;5;241m.\u001B[39mshape[\u001B[38;5;241m0\u001B[39m] \u001B[38;5;241m==\u001B[39m sample_weight\u001B[38;5;241m.\u001B[39mshape[\u001B[38;5;241m0\u001B[39m]\n\u001B[0;32m    441\u001B[0m random_state \u001B[38;5;241m=\u001B[39m check_random_state(random_state)\n",
      "File \u001B[1;32m~\\PycharmProjects\\Sistemas-inteligentes\\venvSistemasInteligenes\\Lib\\site-packages\\sklearn\\linear_model\\_stochastic_gradient.py:349\u001B[0m, in \u001B[0;36m_prepare_fit_binary\u001B[1;34m(est, y, i, input_dtye)\u001B[0m\n\u001B[0;32m    347\u001B[0m \u001B[38;5;28;01mif\u001B[39;00m \u001B[38;5;28mlen\u001B[39m(est\u001B[38;5;241m.\u001B[39mclasses_) \u001B[38;5;241m==\u001B[39m \u001B[38;5;241m2\u001B[39m:\n\u001B[0;32m    348\u001B[0m     \u001B[38;5;28;01mif\u001B[39;00m \u001B[38;5;129;01mnot\u001B[39;00m est\u001B[38;5;241m.\u001B[39maverage:\n\u001B[1;32m--> 349\u001B[0m         coef \u001B[38;5;241m=\u001B[39m \u001B[43mest\u001B[49m\u001B[38;5;241;43m.\u001B[39;49m\u001B[43mcoef_\u001B[49m\u001B[38;5;241;43m.\u001B[39;49m\u001B[43mravel\u001B[49m\u001B[43m(\u001B[49m\u001B[43m)\u001B[49m\n\u001B[0;32m    350\u001B[0m         intercept \u001B[38;5;241m=\u001B[39m est\u001B[38;5;241m.\u001B[39mintercept_[\u001B[38;5;241m0\u001B[39m]\n\u001B[0;32m    351\u001B[0m     \u001B[38;5;28;01melse\u001B[39;00m:\n",
      "\u001B[1;31mKeyboardInterrupt\u001B[0m: "
     ]
    }
   ],
   "execution_count": 51
  },
  {
   "cell_type": "markdown",
   "metadata": {
    "collapsed": true,
    "jupyter": {
     "outputs_hidden": true
    }
   },
   "source": [
    "## Punto 5.  Perceptrón Multicapa (MLP)\n",
    "\n",
    "En **Sklearn**, todos los clasificadores tienen el mismo funcionamiento. Se crea el clasificador (si no indicamos ningún argumento) con todos los parámetros por defecto. Luego:\n",
    "- el método **fit** entrena el clasificador\n",
    "- el método **predict** recibe uno o varios ejemplos y nos devuelve las clases que estima el clasificador.\n",
    "\n",
    "Dado que en nuestro planteamiento tenemos *N* clases, no podemos resolver el problema con un único perceptrón. Por tanto, necesitamos un perceptrón multicapa:\n",
    "<div class=\"alert alert-info\"> <b>from</b> sklearn.neural_network <b>import</b> MLPClassifier<br>\n",
    "    <b>help </b>(MLPClassifier)<br></div>\n",
    "    \n",
    "**Atributos de MLPClassifier:**\n",
    "\n",
    "    n_layers_int: Número de capas.\n",
    "    \n",
    "    n_outputs_int: Número de salidas.\n",
    "        \n",
    "    out_activation_str: Nombre de la función de activación.\n",
    "\n",
    "\n",
    "***Links interesantes:***\n",
    "- https://interactivechaos.com/es/manual/tutorial-de-deep-learning/la-clase-mlpclassifier-de-scikit-learn\n",
    "- https://scikit-learn.org/stable/modules/generated/sklearn.neural_network.MLPClassifier.html\n",
    "- https://es.wikipedia.org/wiki/Funci%C3%B3n_SoftMax"
   ]
  },
  {
   "cell_type": "code",
   "metadata": {
    "ExecuteTime": {
     "end_time": "2024-11-20T21:23:40.459224Z",
     "start_time": "2024-11-20T21:14:05.185755Z"
    }
   },
   "source": [
    "'''\n",
    "Entrena un clasificador (Perceptrón multicapa) con el conjunto de entrenamiento\n",
    "'''\n",
    "\n",
    "# puede tardar unos segundos\n",
    "from sklearn.neural_network import MLPClassifier\n",
    "\n",
    "classifier = MLPClassifier()\n",
    "\n",
    "classifier.fit(X_train, y_train)\n",
    "\n",
    "print(\"Numero de capas: \" + str(classifier.n_layers_))\n",
    "print(\"Numero de salidas: \" + str(classifier.n_outputs_))\n",
    "print(\"Función de activación: \" + str(classifier.out_activation_))"
   ],
   "outputs": [
    {
     "name": "stdout",
     "output_type": "stream",
     "text": [
      "Numero de capas: 3\n",
      "Numero de salidas: 47\n",
      "Función de activación: softmax\n"
     ]
    }
   ],
   "execution_count": 31
  },
  {
   "cell_type": "code",
   "execution_count": null,
   "metadata": {},
   "outputs": [],
   "source": [
    "y_pred = classifier.predict(X_test)\n",
    "y_pred[:10] # muestra las 10 primeras\n"
   ]
  },
  {
   "cell_type": "code",
   "execution_count": null,
   "metadata": {},
   "outputs": [],
   "source": [
    "import matplotlib.pyplot as plt\n",
    "from sklearn import metrics\n",
    "import numpy as np \n",
    "\n",
    "labels=np.unique(y_test)\n",
    "\n",
    "conf_mat = metrics.confusion_matrix(y_test, y_pred,labels=labels)\n",
    "cm_display = metrics.ConfusionMatrixDisplay(confusion_matrix = conf_mat, display_labels = labels)\n",
    "fig, ax = plt.subplots(figsize=(10,10))\n",
    "cm_display.plot(ax=ax)\n",
    "plt.title(\"Matriz de confusión Perceptron Multicapa de Sklearn\")\n",
    "plt.xticks(rotation='vertical')\n",
    "plt.show()"
   ]
  },
  {
   "cell_type": "markdown",
   "metadata": {},
   "source": [
    "# `TAREA 6`\n",
    "- Ejecuta las celdas anteriores para obtener la matriz de confusión para todo el conjunto de imágenes, empleando el perceptrón múlticapa e incluye los resultados de las métricas. \n",
    "- En la carpeta MNIST se encuentra los archivos `emnist-balanced-test-images-idx3-ubyte.gz` y `emnist-balanced-test-labels-idx1-ubyte.gz`. Emplea todo lo visto para el perceptrón multicapa en la práctica para trabajar con estos datos de forma que estos sean los datos de test y **todos** los empleados anteriormente, que se encuentran en `emnist-balanced-images-idx3-ubyte.gz` y `emnist-balanced-labels-idx1-ubyte.gz`, sirvan como datos de entrenamiento.\n",
    "    - ¿Que resultados de metricas se obtienen?\n",
    "    - ¿Hay diferencias con los obtenidos anteriormente (matriz de confusión y métricas)?"
   ]
  },
  {
   "cell_type": "markdown",
   "metadata": {},
   "source": [
    "## Punto 6. Validación cruzada\n",
    "\n",
    "En los procesos de entrenamiento de un clasificador, es conveniente realizar una evaluación de los clasificadores y nos interese modificar de forma sistemática las dos muestras (entrenamiento y test) para evaluar de una manera mas específica el comportamiento del clasificador.\n",
    "\n",
    "Disponemos de métricas que hemos aplicado a muestras obtenidas de la división de la muestra en dos subconjuntos mutuamente excluyentes (mediante **train_test_split**), aunque esta estrategia puede provocar desviaciones en la estimación del error.\n",
    "\n",
    "Para solventar este problema, se emplea la **validación cruzada** (cross-validation, leave-one-out). En este método se parte de un conjunto de datos de *m* muestras y se procede a entrenar el clasificador con *m-1* muestras dejando una fuera (de ahí su denominación). Posteriormente, evaluamos las respuestas del clasificador para la muestra que se quedó fuera. Este proceso se repite *m* veces, dejando fuera una muestra diferente en cada caso.\n",
    "\n",
    "\n",
    "<div class=\"alert alert-info\"> <b>from</b> sklearn.model_selection <b>import</b> cross_val_predict<br>\n",
    "    <b>help </b>(cross_val_predict)<br></div>\n"
   ]
  },
  {
   "cell_type": "markdown",
   "metadata": {},
   "source": [
    "### Validación cruzada para perceptrón simple"
   ]
  },
  {
   "cell_type": "code",
   "metadata": {
    "ExecuteTime": {
     "end_time": "2024-11-20T13:13:53.984556Z",
     "start_time": "2024-11-20T13:13:53.455363Z"
    }
   },
   "source": [
    "from sklearn.metrics import confusion_matrix\n",
    "from sklearn.model_selection import cross_val_predict\n",
    "import numpy as np\n",
    "X_2C = Ximage[((yimage == 'A') | (yimage == '3'))]\n",
    "y_2C = yimage[((yimage == 'A') | (yimage == '3'))]\n",
    "y_2C_pred = cross_val_predict(Perceptron(random_state=None, eta0= 0.1, shuffle=False, fit_intercept=False), X_2C, y_2C, cv=3)\n",
    "labels=np.unique(y_2C)\n",
    "conf_mat = confusion_matrix(y_2C, y_2C_pred,labels=labels)\n",
    "cm_display = metrics.ConfusionMatrixDisplay(confusion_matrix = conf_mat, display_labels = labels)\n",
    "\n",
    "fig, ax = plt.subplots(figsize=(10,10))\n",
    "cm_display.plot(ax=ax)\n",
    "plt.title(\"Matriz de confusión. Validación cruzada. Perceptron simple (A-3)\")\n",
    "plt.show()\n",
    "\n",
    "porcentaje_acierto=evalua(y_2C, y_2C_pred)\n",
    "print(\"Porcentaje de acierto: \" + str(porcentaje_acierto))\n",
    "accuracy=metrics.accuracy_score(y_2C, y_2C_pred)\n",
    "print(\"Exactitud: \" + str(accuracy))\n",
    "precision =metrics.precision_score(y_2C,y_2C_pred,average=None)\n",
    "print(\"Precisión: \" + str(precision))\n",
    "sensibilidad =metrics.recall_score(y_2C, y_2C_pred,average=None)\n",
    "print(\"Sensibilidad: \" + str(sensibilidad))"
   ],
   "outputs": [
    {
     "data": {
      "text/plain": [
       "<Figure size 1000x1000 with 2 Axes>"
      ],
      "image/png": "[encoded data removed]"
     },
     "metadata": {},
     "output_type": "display_data"
    },
    {
     "name": "stdout",
     "output_type": "stream",
     "text": [
      "Porcentaje de acierto: 0.994375\n",
      "Exactitud: 0.994375\n",
      "Precisión: [0.9937578  0.99499374]\n",
      "Sensibilidad: [0.995   0.99375]\n"
     ]
    }
   ],
   "execution_count": 28
  },
  {
   "cell_type": "markdown",
   "metadata": {},
   "source": [
    "### Validación cruzada para perceptrón multicapa"
   ]
  },
  {
   "cell_type": "code",
   "metadata": {
    "ExecuteTime": {
     "end_time": "2024-11-20T13:14:01.150750Z",
     "start_time": "2024-11-20T13:14:00.955095Z"
    }
   },
   "source": [
    "from sklearn.metrics import confusion_matrix\n",
    "from sklearn.model_selection import cross_val_predict\n",
    "import numpy as np\n",
    "y_pred = cross_val_predict(MLPClassifier(), Ximage, yimage, cv=3)\n",
    "labels=np.unique(yimage)\n",
    "conf_mat = confusion_matrix(yimage, y_pred,labels=labels)\n",
    "cm_display = metrics.ConfusionMatrixDisplay(confusion_matrix = conf_mat, display_labels = labels)\n",
    "\n",
    "fig, ax = plt.subplots(figsize=(30,30))\n",
    "cm_display.plot(ax=ax)\n",
    "plt.xticks(rotation='vertical')\n",
    "plt.title(\"Matriz de confusión MLP - Datos EMNIST\")\n",
    "plt.show()\n",
    "\n",
    "accuracy=metrics.accuracy_score(yimage, y_pred)\n",
    "print(\"Exactitud: \" + str(accuracy))\n",
    "\n",
    "precision =metrics.precision_score(yimage, y_pred,average=None) \n",
    "print(\"Precisión: \" + str(precision))\n",
    "\n",
    "sensibilidad =metrics.recall_score(yimage, y_pred,average=None)\n",
    "print(\"Sensibilidad: \" + str(sensibilidad))"
   ],
   "outputs": [
    {
     "ename": "NameError",
     "evalue": "name 'MLPClassifier' is not defined",
     "output_type": "error",
     "traceback": [
      "\u001B[1;31m---------------------------------------------------------------------------\u001B[0m",
      "\u001B[1;31mNameError\u001B[0m                                 Traceback (most recent call last)",
      "Cell \u001B[1;32mIn[29], line 4\u001B[0m\n\u001B[0;32m      2\u001B[0m \u001B[38;5;28;01mfrom\u001B[39;00m \u001B[38;5;21;01msklearn\u001B[39;00m\u001B[38;5;21;01m.\u001B[39;00m\u001B[38;5;21;01mmodel_selection\u001B[39;00m \u001B[38;5;28;01mimport\u001B[39;00m cross_val_predict\n\u001B[0;32m      3\u001B[0m \u001B[38;5;28;01mimport\u001B[39;00m \u001B[38;5;21;01mnumpy\u001B[39;00m \u001B[38;5;28;01mas\u001B[39;00m \u001B[38;5;21;01mnp\u001B[39;00m\n\u001B[1;32m----> 4\u001B[0m y_pred \u001B[38;5;241m=\u001B[39m cross_val_predict(\u001B[43mMLPClassifier\u001B[49m(), Ximage, yimage, cv\u001B[38;5;241m=\u001B[39m\u001B[38;5;241m3\u001B[39m)\n\u001B[0;32m      5\u001B[0m labels\u001B[38;5;241m=\u001B[39mnp\u001B[38;5;241m.\u001B[39munique(yimage)\n\u001B[0;32m      6\u001B[0m conf_mat \u001B[38;5;241m=\u001B[39m confusion_matrix(yimage, y_pred,labels\u001B[38;5;241m=\u001B[39mlabels)\n",
      "\u001B[1;31mNameError\u001B[0m: name 'MLPClassifier' is not defined"
     ]
    }
   ],
   "execution_count": 29
  },
  {
   "cell_type": "markdown",
   "metadata": {},
   "source": [
    "# `TAREA 7`\n",
    "\n",
    "- Desde un punto de vista del usuario que emplea este clasificador de imágenes, ¿qué conclusiones puedes obtener a partir de los resultados obtenidos para la clasificación de imágenes en la validación cruzada, tanto con el perceptrón simple como multicapa?\n",
    " - ¿Cómo varían los resultados cuando realizamos el análisis con todos los datos disponibles (incluir en un unico dataset los datos originales y datos de test de la tarea 6)?\n"
   ]
  }
 ],
 "metadata": {
  "anaconda-cloud": {},
  "kernelspec": {
   "display_name": "Python 3 (ipykernel)",
   "language": "python",
   "name": "python3"
  },
  "language_info": {
   "codemirror_mode": {
    "name": "ipython",
    "version": 3
   },
   "file_extension": ".py",
   "mimetype": "text/x-python",
   "name": "python",
   "nbconvert_exporter": "python",
   "pygments_lexer": "ipython3",
   "version": "3.12.4"
  }
 },
 "nbformat": 4,
 "nbformat_minor": 4
}
