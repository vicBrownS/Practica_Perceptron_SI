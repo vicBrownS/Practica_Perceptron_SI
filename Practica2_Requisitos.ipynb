{
 "cells": [
  {
   "cell_type": "markdown",
   "metadata": {},
   "source": [
    "<img style=\"float:left\" width=\"40%\" src=\"pics/escudo_COLOR_1L_DCHA.png\">\n",
    "<img style=\"float:right\" width=\"12%\" src=\"pics/PythonLogo.svg\">\n",
    "<br style=\"clear:both;\">\n",
    "\n",
    "\n",
    "<h2 style=\"display: inline-block; padding: 4mm; padding-left: 2em; background-color: navy; line-height: 1.3em; color: white; border-radius: 10px;\">Práctica 2: Reconocimiento de formas con redes neuronales</h2>\n",
    "\n",
    "<h2 style=\"display: inline-block; padding: 4mm; padding-left: 2em; background-color: orange; line-height: 1.3em; color: white; border-radius: 10px;\">Requisitos de entrega</h2>\n",
    "\n",
    "### Grado en Ingeniería de la Salud \n",
    "\n",
    "  **Curso 24-25**\n",
    "\n",
    "\n",
    "**Este documento contiene los requisitos de entrega de la Practica 2 de la asignatura Sistemas Inteligentes para la Salud del curso 2024-25**.\n",
    "\n",
    "----------------------------------------\n",
    "## Porcentaje de calificación total\n",
    "\n",
    "La Práctica 2 (**Reconocimiento de formas con red neuronal**) se realizará de forma **individual** y tendrá un peso del **30%** en el total de la calificación de la parte de prácticas de la asignatura.\n",
    "\n",
    "------------------\n",
    "## Tareas a realizar\n",
    "\n",
    "- Implementar todas las tareas incluidas en el noteBook \"Practica2-Enunciado\":\n",
    "\n",
    "    - **Tarea 1**. Implementación de la función `crea_diccionario`\n",
    "    - **Tarea 2**. Implementación de la función `getdataset`\n",
    "    - **Tarea 3**. Obtener la matriz de confusión para la predicción de 'A's en el conjunto de 'A' y '3' empleando las funciones `entrena_perceptron`, `predice` y `evalua`.\n",
    "    - **Tarea 4**. Valoración de resultados repitiendo la creación de grupos de entrenamiento y predicción.\n",
    "    - **Tarea 5**. Analizar la matriz de confusión y sus correspondientes métricas para todos los diferentes pares de imágenes de MNIST.\n",
    "    - **Tarea 6**. Perceptrón múltiple y nuevos datos de test.\n",
    "    - **Tarea 7**. Análisis y conclusiones de los resultados obtenidos para la clasificación de imágenes, tanto con el perceptrón simple como multicapa y comparación con nuevos datos de test.\n",
    "\n",
    "- Crea los notebooks que necesites para mostrar los resultados solicitados. Todas las funciones implementadas deben encontrarse en un archivo `.py` y se deben exportar de forma correcta en cada notebook."
   ]
  },
  {
   "cell_type": "markdown",
   "metadata": {},
   "source": [
    "## Documentos a entregar\n",
    "\n",
    "- Repositorio privado en GitHub que incluya la carpeta con los archivos necesarios para ejecutar los pasos propuestos en la práctica así como los notebooks desarrollados para la realización de las diferentes pruebas y análisis. Debes añadir como colaborador al repositorios al usuario ```davgarciagarcia```.\n",
    "- En el buzón de entrega del aula virtual, documento *pdf* que incluya el detalle de las comparaciones y resultados de los análisis implementados.\n",
    "\n",
    "<div class=\"alert alert-warning\"> <b>No incluyas los archivos MNIST en el repositorio remoto</b></div>\n",
    "\n",
    "------------------\n",
    "\n",
    "## Fecha de entrega\n",
    "\n",
    "- La fecha máxima para la entrega de los documentos de la Práctica 2 será el **lunes 25 de noviembre de 2024** a las **14:00**.\n",
    "------------------\n",
    "\n",
    "\n",
    "## Rúbrica de evaluación de Práctica 2\n",
    "\n",
    "- Implementación de los tareas indicadas en el enunciado  **(8 puntos)**\n",
    "    - Tarea 1. **(0.75 punto)**\n",
    "    - Tarea 2. **(0.75 punto)**\n",
    "    - Tarea 3. **(0.5 puntos)**\n",
    "    - Tarea 4. **(0.5 puntos)**\n",
    "    - Tarea 5. **(1.75 puntos)**\n",
    "    - Tarea 6. **(2 puntos)**\n",
    "    - Tarea 7. **(1.75 puntos)**\n",
    "    \n",
    "- Código, documentos y repositorio remoto completo (con commits)**(1 punto)**\n",
    "\n",
    "- Calificación de la **documentación** aportada **(1 punto)**\n",
    "    - Claridad en las explicaciones \n",
    "    - Dominio de los conceptos fundamentales de programación y de manejo de estructuras de datos.\n",
    "    - Presentación \n",
    "  \n",
    "------------------\n"
   ]
  },
  {
   "cell_type": "markdown",
   "metadata": {},
   "source": [
    "<div class=\"alert alert-warning\"> Sino se modularizan las funciones implementadas y la funciones no están correctamente documentadas, la calificación final total podrá reducirse hasta un <b>30%</b></div>\n",
    "\n",
    "<div class=\"alert alert-danger\"> <b>IMPORTANTE: </b> Si se detecta plagio o copia del trabajo la calificación final de parte de prácticas de la asignatura sera de <b>0</b></div>"
   ]
  }
 ],
 "metadata": {
  "kernelspec": {
   "display_name": "Python 3 (ipykernel)",
   "language": "python",
   "name": "python3"
  },
  "language_info": {
   "codemirror_mode": {
    "name": "ipython",
    "version": 3
   },
   "file_extension": ".py",
   "mimetype": "text/x-python",
   "name": "python",
   "nbconvert_exporter": "python",
   "pygments_lexer": "ipython3",
   "version": "3.12.4"
  },
  "widgets": {
   "state": {
    "042bada4e434454aaa908b25461e3531": {
     "views": [
      {
       "cell_index": 6
      }
     ]
    },
    "70d5bfdaf81b4f57ba5f3ab63745e01f": {
     "views": [
      {
       "cell_index": 6
      }
     ]
    },
    "ae0d245cc8874fb6951e921b363d8c61": {
     "views": [
      {
       "cell_index": 6
      }
     ]
    },
    "cb210eb6fe2d4689bd59da4880bb4db2": {
     "views": [
      {
       "cell_index": 4
      }
     ]
    }
   },
   "version": "1.2.0"
  }
 },
 "nbformat": 4,
 "nbformat_minor": 4
}
