{
 "cells": [
  {
   "metadata": {},
   "cell_type": "markdown",
   "source": [
    "# Tarea 2\n",
    "### En este notebook se realizarán las comprobaciones correspondientes a la tarea 2, todo el codigo y los resultados hayados servirá para la realización del informe. La interpretación de los resultados y las explicaciones de la implementación de las funciones estarán en el informe de prácticas.\n",
    "### Autor: Victor Brown Sogorb"
   ],
   "id": "ba8447c49bddcd49"
  },
  {
   "metadata": {},
   "cell_type": "markdown",
   "source": [
    "En la Tarea 2 debemos implementar la función getdataset() que devuelve la matriz de datos X que contiene la información de las imágenes, en específico, esta matriz es de dos dimensiones siendo estas numero de imágenes x número de pixeles, además la función también devuelve la matriz de datos y, que se trata de una matriz columna con el label de cada imagen.\n",
    "Existe una correspondencia 1 a 1 entre estas matrices que nos servirá luego para obtener los conjuntos de entrenamiento\n",
    "Esta función se encuentra en el archivo Tarea_2.py.\n",
    "Para más información sobre la implementación revisar el informe de prácticas"
   ],
   "id": "7f7f27327a7cff66"
  },
  {
   "cell_type": "code",
   "id": "initial_id",
   "metadata": {
    "collapsed": true,
    "ExecuteTime": {
     "end_time": "2024-11-21T19:07:35.345660Z",
     "start_time": "2024-11-21T19:07:34.380980Z"
    }
   },
   "source": [
    "#Cargamos los datos\n",
    "from Funciones.Funciones_prop import carga_data_MNIST  #Importamos dicha función\n",
    "from Funciones.Tarea_1 import crea_diccionario\n",
    "\n",
    "#Cargamos los datos en las variables images y labels\n",
    "input_path = 'Data'\n",
    "file_images = 'emnist-balanced-images-idx3-ubyte.gz'\n",
    "file_labels = 'emnist-balanced-labels-idx1-ubyte.gz'\n",
    "\n",
    "[images, labels] = carga_data_MNIST(input_path, file_images, file_labels)\n",
    "\n",
    "#Sacamos el diccionario caracteres\n",
    "archivo_claves = \"Data\\\\claves_ASCII.txt\"\n",
    "caracteres = crea_diccionario(archivo_claves)"
   ],
   "outputs": [
    {
     "name": "stdout",
     "output_type": "stream",
     "text": [
      "***********************************\n",
      "Numero mágico para el archivo de imágenes:\n",
      "2051\n",
      "Numero de imágenes:\n",
      "112800\n",
      "Numero de filas (imágenes):\n",
      "28\n",
      "Numero de columnas (imágenes):\n",
      "28\n",
      "***********************************\n",
      "Numero mágico para el archivo de etiquetas:\n",
      "2049\n",
      "Numero de etiquetas:\n",
      "112800\n",
      "***********************************\n"
     ]
    }
   ],
   "execution_count": 4
  },
  {
   "metadata": {},
   "cell_type": "markdown",
   "source": [
    "El siguiente codigo guarda la matriz X en la variable Ximage y la matriz y en la variable yimage.\n",
    "Estas dos matrices serán usadas varias veces en posteriores tareas y se crearán cuando sea necesario sin dar incapié en ellas."
   ],
   "id": "4a7ba5e164220f98"
  },
  {
   "metadata": {
    "ExecuteTime": {
     "end_time": "2024-11-21T19:08:02.246901Z",
     "start_time": "2024-11-21T19:07:36.981819Z"
    }
   },
   "cell_type": "code",
   "source": [
    "from Funciones.Tarea_2 import getdataset\n",
    "Ximage, yimage= getdataset(images,labels, caracteres, 16)\n",
    "print(Ximage.shape,yimage.shape)"
   ],
   "id": "54cef2784432523f",
   "outputs": [
    {
     "name": "stdout",
     "output_type": "stream",
     "text": [
      "(112800, 256) (112800,)\n"
     ]
    }
   ],
   "execution_count": 5
  }
 ],
 "metadata": {
  "kernelspec": {
   "display_name": "Python 3",
   "language": "python",
   "name": "python3"
  },
  "language_info": {
   "codemirror_mode": {
    "name": "ipython",
    "version": 2
   },
   "file_extension": ".py",
   "mimetype": "text/x-python",
   "name": "python",
   "nbconvert_exporter": "python",
   "pygments_lexer": "ipython2",
   "version": "2.7.6"
  }
 },
 "nbformat": 4,
 "nbformat_minor": 5
}
