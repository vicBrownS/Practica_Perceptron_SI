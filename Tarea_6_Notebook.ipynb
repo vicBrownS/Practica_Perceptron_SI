{
 "cells": [
  {
   "metadata": {},
   "cell_type": "markdown",
   "source": [
    "# Tarea 6\n",
    "### En este notebook se realizarán las comprobaciones correspondientes a la tarea 6, todo el codigo y los resultados hayados servirá para la realización del informe."
   ],
   "id": "53d414be66a9fa7b"
  },
  {
   "metadata": {},
   "cell_type": "markdown",
   "source": "En la tarea 6 debemos utilizar el perceptrón multicapa (MLP) de sklearn y comparar las métricas halladas de entrenar este clasificador y hacer la predicción con los datos usados anteriormente en la práctica con aquellas métricas halladas de entrenar el MLP con *todos* los datos provenientes de Ximage e yimage y hacer el test con unos nuevos datos.",
   "id": "b34a456c5eb75ce5"
  },
  {
   "metadata": {},
   "cell_type": "markdown",
   "source": "Cargamos los datos que usaremos en el primer análisis:",
   "id": "991993b92dc2b7ab"
  },
  {
   "cell_type": "code",
   "id": "initial_id",
   "metadata": {
    "collapsed": true,
    "ExecuteTime": {
     "end_time": "2024-11-22T11:48:46.901098Z",
     "start_time": "2024-11-22T11:48:20.391479Z"
    }
   },
   "source": [
    "from Funciones.Funciones_prop import carga_data_MNIST  #Importamos dicha función\n",
    "from Funciones.Tarea_1 import crea_diccionario \n",
    "from Funciones.Tarea_2 import getdataset\n",
    "from sklearn.model_selection import train_test_split\n",
    "\n",
    "#Cargamos los datos en las variables images y labels\n",
    "input_path = 'Data'\n",
    "file_images = 'emnist-balanced-images-idx3-ubyte.gz'\n",
    "file_labels = 'emnist-balanced-labels-idx1-ubyte.gz'\n",
    "\n",
    "[images, labels] = carga_data_MNIST(input_path, file_images, file_labels)\n",
    "\n",
    "\n",
    "#Creamos el diccionario caracteres\n",
    "archivo_claves = \"Data\\\\claves_ASCII.txt\"\n",
    "caracteres = crea_diccionario(archivo_claves)\n",
    "\n",
    "#Obtenemso Ximage e yimage\n",
    "Ximage, yimage= getdataset(images,labels, caracteres, 16)\n",
    "\n",
    "#Obtenemos el split de entrenamiento:\n",
    "X_train, X_test, y_train, y_test = train_test_split(Ximage, yimage, stratify=yimage, train_size=0.7)"
   ],
   "outputs": [
    {
     "name": "stdout",
     "output_type": "stream",
     "text": [
      "***********************************\n",
      "Numero mágico para el archivo de imágenes:\n",
      "2051\n",
      "Numero de imágenes:\n",
      "112800\n",
      "Numero de filas (imágenes):\n",
      "28\n",
      "Numero de columnas (imágenes):\n",
      "28\n",
      "***********************************\n",
      "Numero mágico para el archivo de etiquetas:\n",
      "2049\n",
      "Numero de etiquetas:\n",
      "112800\n",
      "***********************************\n"
     ]
    }
   ],
   "execution_count": 5
  },
  {
   "metadata": {},
   "cell_type": "markdown",
   "source": "#### Entrenamos el MLP",
   "id": "b66b873cfe874277"
  },
  {
   "metadata": {
    "jupyter": {
     "is_executing": true
    },
    "ExecuteTime": {
     "start_time": "2024-11-22T11:48:46.911166Z"
    }
   },
   "cell_type": "code",
   "source": [
    "'''\n",
    "Entrena un clasificador (Perceptrón multicapa) con el conjunto de entrenamiento\n",
    "'''\n",
    "\n",
    "# puede tardar unos segundos\n",
    "from sklearn.neural_network import MLPClassifier\n",
    "\n",
    "classifier = MLPClassifier()\n",
    "\n",
    "classifier.fit(X_train, y_train)\n",
    "\n",
    "print(\"Numero de capas: \" + str(classifier.n_layers_))\n",
    "print(\"Numero de salidas: \" + str(classifier.n_outputs_))\n",
    "print(\"Función de activación: \" + str(classifier.out_activation_))"
   ],
   "id": "7a6f4270dd77d9a5",
   "outputs": [],
   "execution_count": null
  },
  {
   "metadata": {},
   "cell_type": "markdown",
   "source": "#### Predecimos:",
   "id": "67b8f7ae034d55e0"
  },
  {
   "metadata": {},
   "cell_type": "code",
   "outputs": [],
   "execution_count": null,
   "source": "y_pred = classifier.predict(X_test)",
   "id": "3e9419faa88e7354"
  },
  {
   "metadata": {},
   "cell_type": "markdown",
   "source": "#### Mostramos la matriz de confusión y métricas:",
   "id": "45078d00f891a77b"
  },
  {
   "metadata": {},
   "cell_type": "code",
   "outputs": [],
   "execution_count": null,
   "source": [
    "import matplotlib.pyplot as plt\n",
    "from sklearn import metrics\n",
    "import numpy as np \n",
    "\n",
    "print(metrics.accuracy_score(y_test, y_pred))\n",
    "print(metrics.precision_score(y_test, y_pred, average=None))\n",
    "print(metrics.recall_score(y_test, y_pred, average=None))\n",
    "\n",
    "labels=np.unique(y_test)\n",
    "conf_mat = metrics.confusion_matrix(y_test, y_pred,labels=labels)\n",
    "cm_display = metrics.ConfusionMatrixDisplay(confusion_matrix = conf_mat, display_labels = labels)\n",
    "fig, ax = plt.subplots(figsize=(10,10))\n",
    "cm_display.plot(ax=ax)\n",
    "plt.title(\"Matriz de confusión Perceptron Multicapa de Sklearn\")\n",
    "plt.xticks(rotation='vertical')\n",
    "plt.show()"
   ],
   "id": "19c4e3912ab2ace3"
  },
  {
   "metadata": {},
   "cell_type": "markdown",
   "source": "### Ahora se realizarán los mismos pasos pero añadiendo nuevos datos",
   "id": "f2a6209f9f568c14"
  },
  {
   "metadata": {},
   "cell_type": "code",
   "outputs": [],
   "execution_count": null,
   "source": [
    "#Abrimos los datos nuevos\n",
    "input_path='Data'\n",
    "file_images= 'emnist-balanced-test-images-idx3-ubyte.gz'\n",
    "file_labels = 'emnist-balanced-test-labels-idx1-ubyte.gz'\n",
    "\n",
    "[images_test,labels_test]=carga_data_MNIST(input_path,file_images,file_labels)\n",
    "\n",
    "X_test, y_test = getdataset(images_test,labels_test, caracteres, 16)"
   ],
   "id": "c7383c6c98717956"
  },
  {
   "metadata": {},
   "cell_type": "markdown",
   "source": "#### Entrenamos el MLP con todos los datos antiguos",
   "id": "62e9c3a7b582c49e"
  },
  {
   "metadata": {},
   "cell_type": "code",
   "outputs": [],
   "execution_count": null,
   "source": [
    "'''\n",
    "Entrena un clasificador (Perceptrón multicapa) con el conjunto de entrenamiento\n",
    "'''\n",
    "\n",
    "# puede tardar unos segundos\n",
    "from sklearn.neural_network import MLPClassifier\n",
    "\n",
    "classifier = MLPClassifier()\n",
    "\n",
    "classifier.fit(Ximage, yimage) #Datos antiguos\n",
    "\n",
    "print(\"Numero de capas: \" + str(classifier.n_layers_))\n",
    "print(\"Numero de salidas: \" + str(classifier.n_outputs_))\n",
    "print(\"Función de activación: \" + str(classifier.out_activation_))"
   ],
   "id": "5463c154f08c6ffa"
  },
  {
   "metadata": {},
   "cell_type": "markdown",
   "source": "#### Predecimos con los datos nuevos:",
   "id": "2d48ea1629498a09"
  },
  {
   "metadata": {},
   "cell_type": "code",
   "outputs": [],
   "execution_count": null,
   "source": "y_pred = classifier.predict(X_test)",
   "id": "120606ebbd3772cb"
  },
  {
   "metadata": {},
   "cell_type": "markdown",
   "source": "#### Mostramos la matriz de confusión y métricas:",
   "id": "e0e02a60653e698"
  },
  {
   "metadata": {},
   "cell_type": "code",
   "outputs": [],
   "execution_count": null,
   "source": [
    "import matplotlib.pyplot as plt\n",
    "from sklearn import metrics\n",
    "import numpy as np \n",
    "\n",
    "print(metrics.accuracy_score(y_test, y_pred))\n",
    "print(metrics.precision_score(y_test, y_pred, average=None))\n",
    "print(metrics.recall_score(y_test, y_pred, average=None))\n",
    "\n",
    "labels=np.unique(y_test)\n",
    "\n",
    "conf_mat = metrics.confusion_matrix(y_test, y_pred,labels=labels)\n",
    "cm_display = metrics.ConfusionMatrixDisplay(confusion_matrix = conf_mat, display_labels = labels)\n",
    "fig, ax = plt.subplots(figsize=(10,10))\n",
    "cm_display.plot(ax=ax)\n",
    "plt.title(\"Matriz de confusión Perceptron Multicapa de Sklearn\")\n",
    "plt.xticks(rotation='vertical')\n",
    "plt.show()"
   ],
   "id": "6189b938a968119"
  }
 ],
 "metadata": {
  "kernelspec": {
   "display_name": "Python 3",
   "language": "python",
   "name": "python3"
  },
  "language_info": {
   "codemirror_mode": {
    "name": "ipython",
    "version": 2
   },
   "file_extension": ".py",
   "mimetype": "text/x-python",
   "name": "python",
   "nbconvert_exporter": "python",
   "pygments_lexer": "ipython2",
   "version": "2.7.6"
  }
 },
 "nbformat": 4,
 "nbformat_minor": 5
}
