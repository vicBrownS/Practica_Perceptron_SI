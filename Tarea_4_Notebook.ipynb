{
 "cells": [
  {
   "metadata": {},
   "cell_type": "markdown",
   "source": [
    "# Tarea 4\n",
    "### En este notebook se realizarán las comprobaciones correspondientes a la tarea 4, todo el codigo y los resultados hayados servirá para la realización del informe. La interpretación de los resultados y las explicaciones de la implementación de las funciones estarán en el informe de prácticas.\n",
    "### Autor: Victor Brown Sogorb"
   ],
   "id": "59fac62364de3f5e"
  },
  {
   "metadata": {},
   "cell_type": "markdown",
   "source": [
    "En la tarea 4 debemos observar en análisis de las métricas del perceptrón cuando se le entrena repetidamente con el mismo conjunto de datos.\n",
    "Las métricas que definen el comportamiento de un perceptrón y que estudiaremos tanto en esta tarea como en tareas posteriores son: \n",
    "\n",
    "- **Exactitud (accuracy)**: Porcentaje de predicciones correctas. Se corresponde con el valor obtenido de nuestra función `evalua`.\n",
    "- **Precisión (precision)**: Porcentaje de predicciones positivas correctas.\n",
    "- **Sensibilidad (recall)** representa la tasa de verdaderos positivos. Es la proporción entre los casos positivos bien clasificados por el modelo, respecto al total de positivos. \n",
    "\n",
    "Este análisis de las métricas se realizará en paralelo entre el perceptrón propio utilizado en la tarea 3 y el perceptrón de sklearn. \n",
    "Se comparará la evolución de las métricas en ambos perceptrones.\n",
    "\n",
    "Los conjuntos de datos utilizados serán los mismos que se usaron en la tarea 3, por lo tanto, primero hay que inicializar esos datos."
   ],
   "id": "4f43139504bb6320"
  },
  {
   "cell_type": "code",
   "id": "initial_id",
   "metadata": {
    "collapsed": true,
    "ExecuteTime": {
     "end_time": "2024-11-23T08:53:15.325110Z",
     "start_time": "2024-11-23T08:52:40.022653Z"
    }
   },
   "source": [
    "from Funciones.Funciones_prop import carga_data_MNIST  #Importamos dicha función\n",
    "from Funciones.Tarea_1 import crea_diccionario \n",
    "from Funciones.Tarea_2 import getdataset\n",
    "from sklearn.model_selection import train_test_split\n",
    "\n",
    "#Cargamos los datos en las variables images y labels\n",
    "input_path = 'Data'\n",
    "file_images = 'emnist-balanced-images-idx3-ubyte.gz'\n",
    "file_labels = 'emnist-balanced-labels-idx1-ubyte.gz'\n",
    "\n",
    "[images, labels] = carga_data_MNIST(input_path, file_images, file_labels)\n",
    "\n",
    "\n",
    "#Creamos el diccionario caracteres\n",
    "archivo_claves = \"Data\\\\claves_ASCII.txt\"\n",
    "caracteres = crea_diccionario(archivo_claves)\n",
    "\n",
    "#Obtenemso Ximage e yimage\n",
    "Ximage, yimage= getdataset(images,labels, caracteres, 16)\n",
    "\n",
    "#Utilizamos una mascara para filtrar los datasets\n",
    "X_2C = Ximage[((yimage == 'A') | (yimage == '3'))]\n",
    "y_2C = yimage[((yimage == 'A') | (yimage == '3'))]\n",
    "\n",
    "#Pasamos y_2C de booleano a binario 0-1 (false-true)\n",
    "y_2C_num = (y_2C == 'A').astype(int)\n",
    "\n",
    "#Obtenemos el split de entrenamiento y test:\n",
    "X2C_train, X2C_test, y2C_train, y2C_test = train_test_split(X_2C, y_2C_num, stratify=y_2C_num, train_size=0.7)"
   ],
   "outputs": [
    {
     "name": "stdout",
     "output_type": "stream",
     "text": [
      "***********************************\n",
      "Numero mágico para el archivo de imágenes:\n",
      "2051\n",
      "Numero de imágenes:\n",
      "112800\n",
      "Numero de filas (imágenes):\n",
      "28\n",
      "Numero de columnas (imágenes):\n",
      "28\n",
      "***********************************\n",
      "Numero mágico para el archivo de etiquetas:\n",
      "2049\n",
      "Numero de etiquetas:\n",
      "112800\n",
      "***********************************\n"
     ]
    }
   ],
   "execution_count": 1
  },
  {
   "metadata": {},
   "cell_type": "markdown",
   "source": "Entrenamos los dos perceptrones 10 veces y mostramos las métricas:\n",
   "id": "6aea429e5facc20d"
  },
  {
   "metadata": {
    "ExecuteTime": {
     "end_time": "2024-11-23T08:53:26.214235Z",
     "start_time": "2024-11-23T08:53:17.794455Z"
    }
   },
   "cell_type": "code",
   "source": [
    "from Funciones.Tarea_3 import entrena_perceptron, predice, funcion_escalon \n",
    "from sklearn.linear_model import Perceptron\n",
    "from sklearn import metrics\n",
    "\n",
    "z = 0.0     # umbral\n",
    "eta = 0.1   # learning rate\n",
    "t = 50      # número de iteraciones\n",
    "\n",
    "for i in range(10):\n",
    "    weights, errors = entrena_perceptron(X2C_train, y2C_train, z, eta, t,funcion_escalon)\n",
    "    y_pred_2C_own=predice(weights,X2C_test,z,funcion_escalon)\n",
    "    clf = Perceptron(random_state=None, eta0= 0.1, shuffle=True, fit_intercept=True)\n",
    "    clf.fit(X2C_train, y2C_train)\n",
    "    y_pred_2C_sk = clf.predict(X2C_test)\n",
    "\n",
    "    print(\"----------Round \" + str(i) + \"------------------\")\n",
    "    accuracy=metrics.accuracy_score(y2C_test, y_pred_2C_own)\n",
    "    print(\"Exactitud_own: \" + str(accuracy))\n",
    "    \n",
    "    precision =metrics.precision_score(y2C_test, y_pred_2C_own,average=None) \n",
    "    #Incluimos el parametro average=None para que calcule la métrica de precisión en las dos clases\n",
    "    print(\"Precisión_own: \" + str(precision))\n",
    "    \n",
    "    sensibilidad =metrics.recall_score(y2C_test, y_pred_2C_own,average=None)\n",
    "    print(\"Sensibilidad_own: \" + str(sensibilidad))\n",
    "\n",
    "    accuracy=metrics.accuracy_score(y2C_test, y_pred_2C_sk)\n",
    "    print(\"Exactitud_sk: \" + str(accuracy))\n",
    "\n",
    "    precision =metrics.precision_score(y2C_test, y_pred_2C_sk,average=None) \n",
    "    print(\"Precisión_sk: \" + str(precision))\n",
    "\n",
    "    sensibilidad =metrics.recall_score(y2C_test, y_pred_2C_sk,average=None)\n",
    "    print(\"Sensibilidad_sk: \" + str(sensibilidad))"
   ],
   "id": "5558cf308f5c01b0",
   "outputs": [
    {
     "name": "stdout",
     "output_type": "stream",
     "text": [
      "----------Round 0------------------\n",
      "Exactitud_own: 0.9923611111111111\n",
      "Precisión_own: [0.9944212  0.99031812]\n",
      "Sensibilidad_own: [0.99027778 0.99444444]\n",
      "Exactitud_sk: 0.9916666666666667\n",
      "Precisión_sk: [0.99719101 0.98626374]\n",
      "Sensibilidad_sk: [0.98611111 0.99722222]\n",
      "----------Round 1------------------\n",
      "Exactitud_own: 0.9923611111111111\n",
      "Precisión_own: [0.9944212  0.99031812]\n",
      "Sensibilidad_own: [0.99027778 0.99444444]\n",
      "Exactitud_sk: 0.9930555555555556\n",
      "Precisión_sk: [0.99305556 0.99305556]\n",
      "Sensibilidad_sk: [0.99305556 0.99305556]\n",
      "----------Round 2------------------\n",
      "Exactitud_own: 0.9923611111111111\n",
      "Precisión_own: [0.9944212  0.99031812]\n",
      "Sensibilidad_own: [0.99027778 0.99444444]\n",
      "Exactitud_sk: 0.9840277777777777\n",
      "Precisión_sk: [1.         0.96904441]\n",
      "Sensibilidad_sk: [0.96805556 1.        ]\n",
      "----------Round 3------------------\n",
      "Exactitud_own: 0.9923611111111111\n",
      "Precisión_own: [0.9944212  0.99031812]\n",
      "Sensibilidad_own: [0.99027778 0.99444444]\n",
      "Exactitud_sk: 0.99375\n",
      "Precisión_sk: [0.9972028  0.99034483]\n",
      "Sensibilidad_sk: [0.99027778 0.99722222]\n",
      "----------Round 4------------------\n",
      "Exactitud_own: 0.9923611111111111\n",
      "Precisión_own: [0.9944212  0.99031812]\n",
      "Sensibilidad_own: [0.99027778 0.99444444]\n",
      "Exactitud_sk: 0.9923611111111111\n",
      "Precisión_sk: [0.99167822 0.9930459 ]\n",
      "Sensibilidad_sk: [0.99305556 0.99166667]\n",
      "----------Round 5------------------\n",
      "Exactitud_own: 0.9923611111111111\n",
      "Precisión_own: [0.9944212  0.99031812]\n",
      "Sensibilidad_own: [0.99027778 0.99444444]\n",
      "Exactitud_sk: 0.9951388888888889\n",
      "Precisión_sk: [1.         0.99037139]\n",
      "Sensibilidad_sk: [0.99027778 1.        ]\n",
      "----------Round 6------------------\n",
      "Exactitud_own: 0.9923611111111111\n",
      "Precisión_own: [0.9944212  0.99031812]\n",
      "Sensibilidad_own: [0.99027778 0.99444444]\n",
      "Exactitud_sk: 0.9944444444444445\n",
      "Precisión_sk: [0.99859944 0.99035813]\n",
      "Sensibilidad_sk: [0.99027778 0.99861111]\n",
      "----------Round 7------------------\n",
      "Exactitud_own: 0.9923611111111111\n",
      "Precisión_own: [0.9944212  0.99031812]\n",
      "Sensibilidad_own: [0.99027778 0.99444444]\n",
      "Exactitud_sk: 0.99375\n",
      "Precisión_sk: [0.99306519 0.99443672]\n",
      "Sensibilidad_sk: [0.99444444 0.99305556]\n",
      "----------Round 8------------------\n",
      "Exactitud_own: 0.9923611111111111\n",
      "Precisión_own: [0.9944212  0.99031812]\n",
      "Sensibilidad_own: [0.99027778 0.99444444]\n",
      "Exactitud_sk: 0.99375\n",
      "Precisión_sk: [0.99859748 0.98899587]\n",
      "Sensibilidad_sk: [0.98888889 0.99861111]\n",
      "----------Round 9------------------\n",
      "Exactitud_own: 0.9923611111111111\n",
      "Precisión_own: [0.9944212  0.99031812]\n",
      "Sensibilidad_own: [0.99027778 0.99444444]\n",
      "Exactitud_sk: 0.9944444444444445\n",
      "Precisión_sk: [0.99307479 0.99582173]\n",
      "Sensibilidad_sk: [0.99583333 0.99305556]\n"
     ]
    }
   ],
   "execution_count": 2
  }
 ],
 "metadata": {
  "kernelspec": {
   "display_name": "Python 3",
   "language": "python",
   "name": "python3"
  },
  "language_info": {
   "codemirror_mode": {
    "name": "ipython",
    "version": 2
   },
   "file_extension": ".py",
   "mimetype": "text/x-python",
   "name": "python",
   "nbconvert_exporter": "python",
   "pygments_lexer": "ipython2",
   "version": "2.7.6"
  }
 },
 "nbformat": 4,
 "nbformat_minor": 5
}
