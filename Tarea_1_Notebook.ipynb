{
 "cells": [
  {
   "metadata": {},
   "cell_type": "markdown",
   "source": [
    "# Tarea 1\n",
    "### En este notebook se realizarán las comprobaciones correspondientes a la tarea 1, todo el codigo y los resultados hayados servirá para la realización del informe."
   ],
   "id": "32918c496927ac28"
  },
  {
   "metadata": {},
   "cell_type": "markdown",
   "source": [
    "Para comenzar con la práctica primero deberemos cargar los datos que se encuentran en los archivos proporcionados por el profesor, para ello utilizaremos la función aportada por el mismo llamada carga_data_MNIST().\n",
    "\n",
    "Todas las funciones proporcionadas por el profesor se encuentran en el archivo .py llamado Funciones_Prop"
   ],
   "id": "9c113871dc6b1ce0"
  },
  {
   "metadata": {},
   "cell_type": "code",
   "outputs": [],
   "execution_count": null,
   "source": "from Funciones.Funciones_prop import carga_data_MNIST #Importamos dicha función",
   "id": "dd4303cc5e773b6e"
  },
  {
   "cell_type": "code",
   "execution_count": null,
   "id": "initial_id",
   "metadata": {
    "collapsed": true
   },
   "outputs": [],
   "source": [
    "#Cargamos los datos en las variables images y labels\n",
    "input_path='Data'\n",
    "file_images= 'emnist-balanced-images-idx3-ubyte.gz'\n",
    "file_labels = 'emnist-balanced-labels-idx1-ubyte.gz'\n",
    "\n",
    "[images,labels]=carga_data_MNIST(input_path,file_images,file_labels)"
   ]
  },
  {
   "metadata": {},
   "cell_type": "markdown",
   "source": "Pese a que en esta tarea específicamente no utilizaremos los datos se da por explicado la forma de cargarlos y si es necesario para tareas posteriores no se comentará especialmente",
   "id": "350051483fc3c53e"
  },
  {
   "metadata": {},
   "cell_type": "markdown",
   "source": [
    "### Creación de la función crea_diccionario\n",
    "La función crea_diccionario, cuya implementación está realizada en el archivo Tarea_1.py, nos sirve para instanciar un diccionario que relacione una clave de 1 al 46 con un determinado caracter ASCII dado en el archivo claves_ASCII.txt.\n",
    "Para más detalle en la implementación de la función revisar el informe de prácticas.\n"
   ],
   "id": "8c45f028c14d2e6a"
  },
  {
   "metadata": {},
   "cell_type": "markdown",
   "source": "Desde un punto de vista funcional el diccionario que devuelve esta función es el siguiente",
   "id": "1c5cd0a99f98881a"
  },
  {
   "metadata": {
    "ExecuteTime": {
     "end_time": "2024-11-21T13:28:57.579925Z",
     "start_time": "2024-11-21T13:28:57.572736Z"
    }
   },
   "cell_type": "code",
   "source": [
    "from Funciones.Tarea_1 import crea_diccionario\n",
    "archivo_claves= \"Data\\\\claves_ASCII.txt\"\n",
    "caracteres=crea_diccionario(archivo_claves)\n",
    "print(caracteres)"
   ],
   "id": "5552bda9dc5c87f6",
   "outputs": [
    {
     "name": "stdout",
     "output_type": "stream",
     "text": [
      "{0: '0', 1: '1', 2: '2', 3: '3', 4: '4', 5: '5', 6: '6', 7: '7', 8: '8', 9: '9', 10: 'A', 11: 'B', 12: 'C', 13: 'D', 14: 'E', 15: 'F', 16: 'G', 17: 'H', 18: 'I', 19: 'J', 20: 'K', 21: 'L', 22: 'M', 23: 'N', 24: 'O', 25: 'P', 26: 'Q', 27: 'R', 28: 'S', 29: 'T', 30: 'U', 31: 'V', 32: 'W', 33: 'X', 34: 'Y', 35: 'Z', 36: 'a', 37: 'b', 38: 'd', 39: 'e', 40: 'f', 41: 'g', 42: 'h', 43: 'n', 44: 'q', 45: 'r', 46: 't'}\n"
     ]
    }
   ],
   "execution_count": 1
  }
 ],
 "metadata": {
  "kernelspec": {
   "display_name": "Python 3",
   "language": "python",
   "name": "python3"
  },
  "language_info": {
   "codemirror_mode": {
    "name": "ipython",
    "version": 2
   },
   "file_extension": ".py",
   "mimetype": "text/x-python",
   "name": "python",
   "nbconvert_exporter": "python",
   "pygments_lexer": "ipython2",
   "version": "2.7.6"
  }
 },
 "nbformat": 4,
 "nbformat_minor": 5
}
